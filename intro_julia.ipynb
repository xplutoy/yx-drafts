{
 "cells": [
  {
   "attachments": {},
   "cell_type": "markdown",
   "metadata": {},
   "source": [
    "# Intro Julia"
   ]
  },
  {
   "cell_type": "code",
   "execution_count": 1,
   "metadata": {},
   "outputs": [],
   "source": [
    "using Random\n",
    "using Statistics\n",
    "using StatsBase\n",
    "using LinearAlgebra"
   ]
  },
  {
   "cell_type": "code",
   "execution_count": 4,
   "metadata": {},
   "outputs": [
    {
     "name": "stdout",
     "output_type": "stream",
     "text": [
      "a = 3\n",
      "a = 1\n",
      "b = 1\n"
     ]
    },
    {
     "data": {
      "text/plain": [
       "1"
      ]
     },
     "metadata": {},
     "output_type": "display_data"
    }
   ],
   "source": [
    "# 整除\n",
    "a = div(10, 3)\n",
    "@show(a)\n",
    "# 余数\n",
    "a = 10 % 3\n",
    "b = rem(10, 3)\n",
    "@show(a);\n",
    "@show(b);"
   ]
  },
  {
   "attachments": {},
   "cell_type": "markdown",
   "metadata": {},
   "source": [
    "## 函数进阶"
   ]
  },
  {
   "cell_type": "code",
   "execution_count": 14,
   "metadata": {},
   "outputs": [
    {
     "name": "stdout",
     "output_type": "stream",
     "text": [
      "b = 4\n",
      "b = 4\n",
      "d = 9\n"
     ]
    },
    {
     "data": {
      "text/plain": [
       "9"
      ]
     },
     "metadata": {},
     "output_type": "display_data"
    }
   ],
   "source": [
    "# 匿名函数\n",
    "a = x -> x^2\n",
    "b = a(2)\n",
    "@show(b)\n",
    "a = function (x)\n",
    "    x^2\n",
    "end\n",
    "b = a(2)\n",
    "@show(b)\n",
    "\n",
    "# 函数工厂\n",
    "c = function (a)\n",
    "    x -> x^a\n",
    "end\n",
    "b = c(2)\n",
    "d = b(3)\n",
    "@show(d)"
   ]
  },
  {
   "cell_type": "code",
   "execution_count": 10,
   "metadata": {},
   "outputs": [
    {
     "name": "stdout",
     "output_type": "stream",
     "text": [
      "a = 55\n",
      "a = 55\n"
     ]
    },
    {
     "name": "stdout",
     "output_type": "stream",
     "text": [
      "['A', 'B', 'C']"
     ]
    }
   ],
   "source": [
    "# 链式调用和函数复合\n",
    "# x |> f 可以表示f(x) ,这样 x |> f |> g 就是调用复合函数 g(f(x)) \n",
    "# 也可以用 ∘ 运算符，则g(f(x))可以表示成 g ∘ f (x)\n",
    "\n",
    "a = [1:5;] |> (x -> x .^ 2) |> sum\n",
    "@show a\n",
    "\n",
    "# 加 . 的运算\n",
    "a = [1:5;] .|> (x -> x^2) |> sum\n",
    "@show a\n",
    "\n",
    "# 在没有确定函数名时，使用 ∘ 很方便\n",
    "funcs = [uppercase, lowercase, first]\n",
    "fruits = [\"apple\", \"banana\", \"carrot\"]\n",
    "fnew = funcs[1] ∘ funcs[3]\n",
    "y = map(fnew, fruits)\n",
    "y |> show"
   ]
  },
  {
   "cell_type": "code",
   "execution_count": 9,
   "metadata": {},
   "outputs": [
    {
     "name": "stdout",
     "output_type": "stream",
     "text": [
      "21"
     ]
    }
   ],
   "source": [
    "# 闭包 closure\n",
    "# 有状态的函数，julia中没有面向对象的模式，所以闭包登场\n",
    "# 用闭包计算 fib_n\n",
    "function fib_generator()\n",
    "    saved = Dict(0 => 0, 1 => 1)\n",
    "    function fib(n)\n",
    "        if n ∉ saved.keys\n",
    "            saved[n] = fib(n - 1) + fib(n - 2)\n",
    "        end\n",
    "        return saved[n]\n",
    "    end\n",
    "end\n",
    "fib = fib_generator()(8)\n",
    "fib |> show"
   ]
  },
  {
   "cell_type": "code",
   "execution_count": 32,
   "metadata": {},
   "outputs": [
    {
     "name": "stdout",
     "output_type": "stream",
     "text": [
      "[1, 4, 9]\n"
     ]
    },
    {
     "name": "stdout",
     "output_type": "stream",
     "text": [
      "[4, 25, 100]\n",
      "[2, 3, 4]\n",
      "[1, 2]\n",
      "6\n",
      "[1 4 7; 2 5 8; 3 6 9][6 15 24]\n",
      "14[1, 3, 6, 10, 15]\n"
     ]
    },
    {
     "name": "stdout",
     "output_type": "stream",
     "text": [
      "[1, 3, 6, 10, 15]\n"
     ]
    }
   ],
   "source": [
    "## 函数式编程 map(), filter(), reduce()\n",
    "# 一般用在无名函数，有名字的函数可以用f.(x)来替代\n",
    "map(x -> x^2, [1, 2, 3]) |> println #[1,2,3].^2\n",
    "\n",
    "# map do 模块，对于无名函数有多行的情况\n",
    "map([1, 2, 3]) do x\n",
    "    x = x^2 + 1\n",
    "    x * x\n",
    "end |> println\n",
    "\n",
    "# 对于多元函数\n",
    "map((x, y) -> x + y, [1, 2, 3], [1, 1, 1]) |> println\n",
    "\n",
    "# filter 也叫做示性函数\n",
    "filter(x -> x > 0, [1, 2, -1]) |> println\n",
    "\n",
    "# reduce 约化计算\n",
    "reduce(+, [1, 2, 3]) |> println # 等价于 sum([1,2,3])\n",
    "\n",
    "# 按维度约化\n",
    "mat = reshape([1:9;], 3, 3)\n",
    "mat |> show\n",
    "reduce(+, mat, dims=1) |> println\n",
    "\n",
    "# map 和 reduce 结合\n",
    "mapreduce(x -> x^2, +, [1, 2, 3]) |> show\n",
    "\n",
    "# accumulate\n",
    "# 类似于sum()求总和而cumsum()给出累计求和的所有中间结果， cumprod()计算连乘过程中的所有中间结果， 函数accumulate()可以将二元运算累计地计算并给出每一步的中间结果。 如：\n",
    "cumsum(1:5) |> println\n",
    "accumulate(+, 1:5) |> println"
   ]
  },
  {
   "attachments": {},
   "cell_type": "markdown",
   "metadata": {},
   "source": [
    "## 异常处理\n",
    "```{julia}\n",
    "try\n",
    "    可能出错的程序\n",
    "catch 异常类型变量名\n",
    "    异常处理程序\n",
    "finally\n",
    "    无论如何最后都要执行的程序\n",
    "end\n",
    "```"
   ]
  },
  {
   "attachments": {},
   "cell_type": "markdown",
   "metadata": {},
   "source": [
    "## 复合数据进阶"
   ]
  },
  {
   "cell_type": "code",
   "execution_count": 41,
   "metadata": {},
   "outputs": [
    {
     "name": "stdout",
     "output_type": "stream",
     "text": [
      "v1[1] = 1\n",
      "v1[2] = 3\n",
      "v1[3] = 4\n",
      "v1[4] = 9\n",
      "v1[5] = 13\n",
      "v1["
     ]
    },
    {
     "name": "stdout",
     "output_type": "stream",
     "text": [
      "1] = 1\n",
      "v1[2] = 3\n",
      "v1[3] = 4\n",
      "v1[4] = 9\n",
      "v1[5] = 13\n",
      "1\n",
      "3\n",
      "4\n",
      "9\n",
      "13\n",
      "v1[1] = 1\n",
      "v1[2] = 3\n",
      "v1[3] = 4\n",
      "v1[4] = 9\n",
      "v1[5] = 13\n",
      "v1[1] = 1\n",
      "v1[2] = 3\n",
      "v1[3] = 4\n",
      "v1[4] = 9\n",
      "v1[5] = 13\n",
      "[1, 16, 49, 100][1, 3, 2][1 2 3; 4 5 6]"
     ]
    }
   ],
   "source": [
    "v1 = [1, 3, 4, 9, 13]\n",
    "for i in eachindex(v1)\n",
    "    println(\"v1[\", i, \"] = \", v1[i])\n",
    "end\n",
    "\n",
    "for i = 1:length(v1)\n",
    "    println(\"v1[\", i, \"] = \", v1[i])\n",
    "end\n",
    "\n",
    "# 也可以不利用下标而是直接对元素遍历，如\n",
    "for xi in v1\n",
    "    println(xi)\n",
    "end\n",
    "\n",
    "# 因为Julia用OffsetArrays支持不从1开始的下标， 所以保险起见， 可以用firstindex(v)获取向量v的第一个下标， 用lastindex(v)获取v的最后一个下标，如：\n",
    "for i = firstindex(v1):lastindex(v1)\n",
    "    println(\"v1[\", i, \"] = \", v1[i])\n",
    "end\n",
    "\n",
    "# 还可以用enumerate同时对向量下标和元素值遍历，如：\n",
    "for (i, xi) in enumerate(v1)\n",
    "    println(\"v1[\", i, \"] = \", xi)\n",
    "end\n",
    "\n",
    "# 列表推导\n",
    "[x * x for x in 1:10 if x % 3 == 1] |> show\n",
    "\n",
    "# sortperm(x)返回为了将x从小到大排序所应该使用的下标序列， 如：\n",
    "sortperm([11, 13, 12]) |> show\n",
    "\n",
    "# 矩阵\n",
    "A1 = [1 2 3; 4 5 6] |> show"
   ]
  },
  {
   "cell_type": "code",
   "execution_count": 7,
   "metadata": {},
   "outputs": [
    {
     "name": "stdout",
     "output_type": "stream",
     "text": [
      "\"abv 123\""
     ]
    },
    {
     "data": {
      "text/plain": [
       "\"3.1415926535897932384626433832795028841972\""
      ]
     },
     "metadata": {},
     "output_type": "display_data"
    }
   ],
   "source": [
    "# 字符串插值\n",
    "# 在字符串中可以用$变量名或$(表达式)的格式插入变量值或者表达式值。\n",
    "\n",
    "x = 123\n",
    "a = \"abv $x\" |> show\n",
    "\n",
    "# 字符串拼接、这一点与其他代码不同 Pyhton R\n",
    "\"x = \" * string(x)\n",
    "\n",
    "# 格式转换，使用C语言的printf格式约\n",
    "using Printf\n",
    "s = @sprintf \"%.40f\" big(π)"
   ]
  },
  {
   "cell_type": "code",
   "execution_count": 8,
   "metadata": {},
   "outputs": [
    {
     "data": {
      "text/plain": [
       "Main.MyStat"
      ]
     },
     "metadata": {},
     "output_type": "display_data"
    }
   ],
   "source": [
    "# 模块\n",
    "# 用 module 关键字定义模块\n",
    "# 如果代码没有定义在一个显式的模块中，则其在 Main 这个默认模块中\n",
    "# 可以通过关键字 export 可以指定模块中的哪些符号可以通过导入而对其他模块可见\n",
    "# 下面是一个简单的模块定义\n",
    "module MyStat\n",
    "export mean, rmse\n",
    "function mean(x)\n",
    "  sum(x) / length(x)\n",
    "end\n",
    "function rmse(x)\n",
    "  sqrt(sum(x .^ 2) / length(x))\n",
    "end\n",
    "end"
   ]
  },
  {
   "cell_type": "code",
   "execution_count": 13,
   "metadata": {},
   "outputs": [
    {
     "data": {
      "text/plain": [
       "2.7386127875258306"
      ]
     },
     "metadata": {},
     "output_type": "display_data"
    }
   ],
   "source": [
    "# 导入模块\n",
    "# using、import\n",
    "# using Module_name 可以把Module_name 中 export 的符号引入当前模块\n",
    "using .MyStat\n",
    "rmse([1, 2, 3, 4])\n",
    "\n",
    "# .MyStat 前的.表示导入的模块就在当前环境，表示在当前名字空间中查找MyStat模块定义\n",
    "# using整个模块是比较不安全的做法，安全的做法\n",
    "using .MyStat: mean, rmse\n",
    "rmse([1, 2, 3, 4])\n",
    "\n",
    "# 可以用import声明导入单个的函数\n",
    "import .MyStat.mean, .MyStat.rmse\n",
    "rmse([1, 2, 3, 4])\n",
    "\n",
    "# 也可以用import仅导入模块名， 其中的函数需要用“模块名.函数名”的格式调用\n",
    "import .MyStat\n",
    "MyStat.rmse([1, 2, 3, 4])\n",
    "\n",
    "# 当一个模块的全局变量通过using或者import导入到当前模块后， 当前模块不允许存在同名的全局变量， 而且也只允许读取其它模块中的全局变量值而不允许对其进行修改。\n",
    "# 一个模块可以在一个文件里，也可以分布在多个文件中，通过include()函数载入到模块定义中\n",
    "# 为了调用MyStat模块， 设源文件保存在mystat.jl中， 可以先include(\"mystat.jl\")然后用MyStat.mean()的格式调用函数"
   ]
  },
  {
   "attachments": {},
   "cell_type": "markdown",
   "metadata": {},
   "source": [
    "# 类型系统"
   ]
  },
  {
   "cell_type": "code",
   "execution_count": 2,
   "metadata": {},
   "outputs": [
    {
     "name": "stdout",
     "output_type": "stream",
     "text": [
      "typeof(43) = Int64\n",
      "43 isa Int64 = true\n",
      "[typemin(Int8), typemax(Int8)] = Int8[-128, 127]\n",
      "eps(Float64) = 2.220446049250313e-16\n"
     ]
    },
    {
     "data": {
      "text/plain": [
       "2.2250738585072014e-308"
      ]
     },
     "metadata": {},
     "output_type": "display_data"
    }
   ],
   "source": [
    "# typeof isa\n",
    "@show typeof(43)\n",
    "@show 43 isa Int64\n",
    "@show [typemin(Int8), typemax(Int8)]\n",
    "\n",
    "# eps(Float64)返回64位双精度浮点型数的机器Epsilon值， 即 1+ϵ≠1，但是 1+ϵ2 则不能与1.0区分开来。\n",
    "@show eps(Float64)\n",
    "# Float64型的绝对值最小的正常精度的值：\n",
    "floatmin(Float64)"
   ]
  },
  {
   "attachments": {},
   "cell_type": "markdown",
   "metadata": {},
   "source": [
    "用程序语言术语描述， Julia语言的类型系统是动态的，主格的(nominative), 参数化的。 通用类型可以带有类型参数。 类型的层次结构是显式声明的， 不是由兼容结构隐含的。 实体类型(concrete types)不能互相继承， 这与很多面向对象系统不同。 Julia的理念认为继承数据结构并不重要，继承行为才是最有用的。Julia的所有类型都可以表示在一个类型树中， 类型分为抽象类型与实体类型， 每个类型有且仅有一个父类型， 最高层的父类型是Any类型。 每个类型都属于Any类型。 实体类型不允许有子类， 一个类型不允许有多个直接的父类。\n",
    "抽象类型仅用来作为其他类型的父类， 没有取类型的值。 例如，Julia的数值类型可以由如下的类型结构组成：\n",
    "```{julia}\n",
    "abstract type Number end\n",
    "abstract type Real <: Number end\n",
    "abstract type AbstractFloat <: Real end\n",
    "abstract type Integer <: Real end\n",
    "abstract type Signed <: Integer end\n",
    "abstract type Unsigned <: Integer end\n",
    "```\n"
   ]
  },
  {
   "cell_type": "code",
   "execution_count": 18,
   "metadata": {},
   "outputs": [
    {
     "name": "stdout",
     "output_type": "stream",
     "text": [
      "x::BigInt = 100000000000000000000000000000000000000000 = 100000000000000000000000000000000000000000\n",
      "Int32 <: Real = true\n",
      "supertype(Int32) = Signed\n",
      "Type[]Any[Complex, Real][1.5, missing] = Union{Missing, Float64}[1.5, missing]\n",
      "ismissing.([1.5, missing]) = Bool[0, 1]\n",
      "1\n",
      "2\n",
      "3\n",
      "5\n"
     ]
    }
   ],
   "source": [
    "\n",
    "# 单精度 \n",
    "1.2f-3\n",
    "# 双精度\n",
    "1.2e-3\n",
    "\n",
    "#BigInt是任意精度整数， BigFloat是任意精度浮点数。\n",
    "@show x::BigInt = 100000000000000000000000000000000000000000\n",
    "\n",
    "# 用<:运算符来判断子类关系是否成立，如\n",
    "@show Int32 <: Real\n",
    "\n",
    "# 每个类型有且仅有一个父类型(supertype)， 用函数supertype访问，如：\n",
    "@show supertype(Int32)\n",
    "\n",
    "subtypes(Int) |> show\n",
    "subtypes(Number) |> show\n",
    "\n",
    "# 用missing表示缺失值\\特殊值nothing表示“不存在”\n",
    "@show [1.5, missing]\n",
    "@show ismissing.([1.5, missing])\n",
    "\n",
    "# skipmissing(x)结果类似一个迭代器， 遍历其元素时会跳过缺失值\n",
    "for i in skipmissing([1, 2, 3, missing, 5])\n",
    "    println(i)\n",
    "end\n",
    "\n",
    "# :: 符号\n",
    "# 1. 类型验证\n",
    "6::Int\n",
    "# 2 类型声明\n",
    "x6::Int = 6\n",
    "\n",
    "# 抽象类型\n",
    "abstract type MyType end\n",
    "# 类型继承\n",
    "abstract type MyContType <: MyType end"
   ]
  },
  {
   "attachments": {},
   "cell_type": "markdown",
   "metadata": {},
   "source": [
    "# 数值计算"
   ]
  },
  {
   "attachments": {},
   "cell_type": "markdown",
   "metadata": {},
   "source": [
    "## 误差的累积会放大误差\n",
    "把0.1累加一万次，与真实值1e6比较，误差约为$10^{-4}$，双精度数$ε_m$在$10^{-16}$左右，1e6的表示误差在$10^{-10}$左右，这个累积误差比表示误差大了6个数量级。 "
   ]
  },
  {
   "cell_type": "code",
   "execution_count": 2,
   "metadata": {},
   "outputs": [
    {
     "data": {
      "text/plain": [
       "-0.0001610246254131198"
      ]
     },
     "metadata": {},
     "output_type": "display_data"
    }
   ],
   "source": [
    "x = 0.0\n",
    "for i = 1:10_000_000\n",
    "    x += 0.1\n",
    "end\n",
    "x - 1_000_000.0"
   ]
  },
  {
   "attachments": {},
   "cell_type": "markdown",
   "metadata": {},
   "source": [
    "## 计算同生日概率\n",
    "一个班n个人，至少两人生日重合的概率：$p_n = 1 - \\frac{P^n_{365}}{365^n}$"
   ]
  },
  {
   "cell_type": "code",
   "execution_count": 11,
   "metadata": {},
   "outputs": [
    {
     "data": {
      "image/png": "[encoded data removed]",
      "image/svg+xml": [
       "<?xml version=\"1.0\" encoding=\"utf-8\"?>\n",
       "<svg xmlns=\"http://www.w3.org/2000/svg\" xmlns:xlink=\"http://www.w3.org/1999/xlink\" width=\"600\" height=\"400\" viewBox=\"0 0 2400 1600\">\n",
       "<defs>\n",
       "  <clipPath id=\"clip380\">\n",
       "    <rect x=\"0\" y=\"0\" width=\"2400\" height=\"1600\"/>\n",
       "  </clipPath>\n",
       "</defs>\n",
       "<path clip-path=\"url(#clip380)\" d=\"M0 1600 L2400 1600 L2400 0 L0 0  Z\" fill=\"#ffffff\" fill-rule=\"evenodd\" fill-opacity=\"1\"/>\n",
       "<defs>\n",
       "  <clipPath id=\"clip381\">\n",
       "    <rect x=\"480\" y=\"0\" width=\"1681\" height=\"1600\"/>\n",
       "  </clipPath>\n",
       "</defs>\n",
       "<path clip-path=\"url(#clip380)\" d=\"M186.274 1486.45 L2352.76 1486.45 L2352.76 47.2441 L186.274 47.2441  Z\" fill=\"#ffffff\" fill-rule=\"evenodd\" fill-opacity=\"1\"/>\n",
       "<defs>\n",
       "  <clipPath id=\"clip382\">\n",
       "    <rect x=\"186\" y=\"47\" width=\"2167\" height=\"1440\"/>\n",
       "  </clipPath>\n",
       "</defs>\n",
       "<polyline clip-path=\"url(#clip382)\" style=\"stroke:#000000; stroke-linecap:round; stroke-linejoin:round; stroke-width:2; stroke-opacity:0.1; fill:none\" points=\"241.975,1486.45 241.975,47.2441 \"/>\n",
       "<polyline clip-path=\"url(#clip382)\" style=\"stroke:#000000; stroke-linecap:round; stroke-linejoin:round; stroke-width:2; stroke-opacity:0.1; fill:none\" points=\"803.472,1486.45 803.472,47.2441 \"/>\n",
       "<polyline clip-path=\"url(#clip382)\" style=\"stroke:#000000; stroke-linecap:round; stroke-linejoin:round; stroke-width:2; stroke-opacity:0.1; fill:none\" points=\"1364.97,1486.45 1364.97,47.2441 \"/>\n",
       "<polyline clip-path=\"url(#clip382)\" style=\"stroke:#000000; stroke-linecap:round; stroke-linejoin:round; stroke-width:2; stroke-opacity:0.1; fill:none\" points=\"1926.47,1486.45 1926.47,47.2441 \"/>\n",
       "<polyline clip-path=\"url(#clip380)\" style=\"stroke:#000000; stroke-linecap:round; stroke-linejoin:round; stroke-width:4; stroke-opacity:1; fill:none\" points=\"186.274,1486.45 2352.76,1486.45 \"/>\n",
       "<polyline clip-path=\"url(#clip380)\" style=\"stroke:#000000; stroke-linecap:round; stroke-linejoin:round; stroke-width:4; stroke-opacity:1; fill:none\" points=\"241.975,1486.45 241.975,1467.55 \"/>\n",
       "<polyline clip-path=\"url(#clip380)\" style=\"stroke:#000000; stroke-linecap:round; stroke-linejoin:round; stroke-width:4; stroke-opacity:1; fill:none\" points=\"803.472,1486.45 803.472,1467.55 \"/>\n",
       "<polyline clip-path=\"url(#clip380)\" style=\"stroke:#000000; stroke-linecap:round; stroke-linejoin:round; stroke-width:4; stroke-opacity:1; fill:none\" points=\"1364.97,1486.45 1364.97,1467.55 \"/>\n",
       "<polyline clip-path=\"url(#clip380)\" style=\"stroke:#000000; stroke-linecap:round; stroke-linejoin:round; stroke-width:4; stroke-opacity:1; fill:none\" points=\"1926.47,1486.45 1926.47,1467.55 \"/>\n",
       "<path clip-path=\"url(#clip380)\" d=\"M241.975 1517.37 Q238.363 1517.37 236.535 1520.93 Q234.729 1524.47 234.729 1531.6 Q234.729 1538.71 236.535 1542.27 Q238.363 1545.82 241.975 1545.82 Q245.609 1545.82 247.414 1542.27 Q249.243 1538.71 249.243 1531.6 Q249.243 1524.47 247.414 1520.93 Q245.609 1517.37 241.975 1517.37 M241.975 1513.66 Q247.785 1513.66 250.84 1518.27 Q253.919 1522.85 253.919 1531.6 Q253.919 1540.33 250.84 1544.94 Q247.785 1549.52 241.975 1549.52 Q236.164 1549.52 233.086 1544.94 Q230.03 1540.33 230.03 1531.6 Q230.03 1522.85 233.086 1518.27 Q236.164 1513.66 241.975 1513.66 Z\" fill=\"#000000\" fill-rule=\"nonzero\" fill-opacity=\"1\" /><path clip-path=\"url(#clip380)\" d=\"M763.079 1544.91 L770.718 1544.91 L770.718 1518.55 L762.407 1520.21 L762.407 1515.95 L770.671 1514.29 L775.347 1514.29 L775.347 1544.91 L782.986 1544.91 L782.986 1548.85 L763.079 1548.85 L763.079 1544.91 Z\" fill=\"#000000\" fill-rule=\"nonzero\" fill-opacity=\"1\" /><path clip-path=\"url(#clip380)\" d=\"M802.43 1517.37 Q798.819 1517.37 796.991 1520.93 Q795.185 1524.47 795.185 1531.6 Q795.185 1538.71 796.991 1542.27 Q798.819 1545.82 802.43 1545.82 Q806.065 1545.82 807.87 1542.27 Q809.699 1538.71 809.699 1531.6 Q809.699 1524.47 807.87 1520.93 Q806.065 1517.37 802.43 1517.37 M802.43 1513.66 Q808.241 1513.66 811.296 1518.27 Q814.375 1522.85 814.375 1531.6 Q814.375 1540.33 811.296 1544.94 Q808.241 1549.52 802.43 1549.52 Q796.62 1549.52 793.542 1544.94 Q790.486 1540.33 790.486 1531.6 Q790.486 1522.85 793.542 1518.27 Q796.62 1513.66 802.43 1513.66 Z\" fill=\"#000000\" fill-rule=\"nonzero\" fill-opacity=\"1\" /><path clip-path=\"url(#clip380)\" d=\"M832.592 1517.37 Q828.981 1517.37 827.152 1520.93 Q825.347 1524.47 825.347 1531.6 Q825.347 1538.71 827.152 1542.27 Q828.981 1545.82 832.592 1545.82 Q836.226 1545.82 838.032 1542.27 Q839.861 1538.71 839.861 1531.6 Q839.861 1524.47 838.032 1520.93 Q836.226 1517.37 832.592 1517.37 M832.592 1513.66 Q838.402 1513.66 841.458 1518.27 Q844.537 1522.85 844.537 1531.6 Q844.537 1540.33 841.458 1544.94 Q838.402 1549.52 832.592 1549.52 Q826.782 1549.52 823.703 1544.94 Q820.648 1540.33 820.648 1531.6 Q820.648 1522.85 823.703 1518.27 Q826.782 1513.66 832.592 1513.66 Z\" fill=\"#000000\" fill-rule=\"nonzero\" fill-opacity=\"1\" /><path clip-path=\"url(#clip380)\" d=\"M1328.66 1544.91 L1344.98 1544.91 L1344.98 1548.85 L1323.04 1548.85 L1323.04 1544.91 Q1325.7 1542.16 1330.28 1537.53 Q1334.89 1532.88 1336.07 1531.53 Q1338.31 1529.01 1339.19 1527.27 Q1340.1 1525.51 1340.1 1523.82 Q1340.1 1521.07 1338.15 1519.33 Q1336.23 1517.6 1333.13 1517.6 Q1330.93 1517.6 1328.48 1518.36 Q1326.05 1519.13 1323.27 1520.68 L1323.27 1515.95 Q1326.09 1514.82 1328.55 1514.24 Q1331 1513.66 1333.04 1513.66 Q1338.41 1513.66 1341.6 1516.35 Q1344.8 1519.03 1344.8 1523.52 Q1344.8 1525.65 1343.99 1527.57 Q1343.2 1529.47 1341.09 1532.07 Q1340.51 1532.74 1337.41 1535.95 Q1334.31 1539.15 1328.66 1544.91 Z\" fill=\"#000000\" fill-rule=\"nonzero\" fill-opacity=\"1\" /><path clip-path=\"url(#clip380)\" d=\"M1364.8 1517.37 Q1361.18 1517.37 1359.36 1520.93 Q1357.55 1524.47 1357.55 1531.6 Q1357.55 1538.71 1359.36 1542.27 Q1361.18 1545.82 1364.8 1545.82 Q1368.43 1545.82 1370.24 1542.27 Q1372.06 1538.71 1372.06 1531.6 Q1372.06 1524.47 1370.24 1520.93 Q1368.43 1517.37 1364.8 1517.37 M1364.8 1513.66 Q1370.61 1513.66 1373.66 1518.27 Q1376.74 1522.85 1376.74 1531.6 Q1376.74 1540.33 1373.66 1544.94 Q1370.61 1549.52 1364.8 1549.52 Q1358.99 1549.52 1355.91 1544.94 Q1352.85 1540.33 1352.85 1531.6 Q1352.85 1522.85 1355.91 1518.27 Q1358.99 1513.66 1364.8 1513.66 Z\" fill=\"#000000\" fill-rule=\"nonzero\" fill-opacity=\"1\" /><path clip-path=\"url(#clip380)\" d=\"M1394.96 1517.37 Q1391.35 1517.37 1389.52 1520.93 Q1387.71 1524.47 1387.71 1531.6 Q1387.71 1538.71 1389.52 1542.27 Q1391.35 1545.82 1394.96 1545.82 Q1398.59 1545.82 1400.4 1542.27 Q1402.23 1538.71 1402.23 1531.6 Q1402.23 1524.47 1400.4 1520.93 Q1398.59 1517.37 1394.96 1517.37 M1394.96 1513.66 Q1400.77 1513.66 1403.82 1518.27 Q1406.9 1522.85 1406.9 1531.6 Q1406.9 1540.33 1403.82 1544.94 Q1400.77 1549.52 1394.96 1549.52 Q1389.15 1549.52 1386.07 1544.94 Q1383.01 1540.33 1383.01 1531.6 Q1383.01 1522.85 1386.07 1518.27 Q1389.15 1513.66 1394.96 1513.66 Z\" fill=\"#000000\" fill-rule=\"nonzero\" fill-opacity=\"1\" /><path clip-path=\"url(#clip380)\" d=\"M1900.23 1530.21 Q1903.59 1530.93 1905.46 1533.2 Q1907.36 1535.47 1907.36 1538.8 Q1907.36 1543.92 1903.84 1546.72 Q1900.32 1549.52 1893.84 1549.52 Q1891.66 1549.52 1889.35 1549.08 Q1887.06 1548.66 1884.6 1547.81 L1884.6 1543.29 Q1886.55 1544.43 1888.86 1545.01 Q1891.18 1545.58 1893.7 1545.58 Q1898.1 1545.58 1900.39 1543.85 Q1902.71 1542.11 1902.71 1538.8 Q1902.71 1535.75 1900.55 1534.03 Q1898.42 1532.3 1894.6 1532.3 L1890.58 1532.3 L1890.58 1528.45 L1894.79 1528.45 Q1898.24 1528.45 1900.07 1527.09 Q1901.9 1525.7 1901.9 1523.11 Q1901.9 1520.45 1900 1519.03 Q1898.12 1517.6 1894.6 1517.6 Q1892.68 1517.6 1890.48 1518.01 Q1888.28 1518.43 1885.65 1519.31 L1885.65 1515.14 Q1888.31 1514.4 1890.62 1514.03 Q1892.96 1513.66 1895.02 1513.66 Q1900.34 1513.66 1903.45 1516.09 Q1906.55 1518.5 1906.55 1522.62 Q1906.55 1525.49 1904.9 1527.48 Q1903.26 1529.45 1900.23 1530.21 Z\" fill=\"#000000\" fill-rule=\"nonzero\" fill-opacity=\"1\" /><path clip-path=\"url(#clip380)\" d=\"M1926.22 1517.37 Q1922.61 1517.37 1920.78 1520.93 Q1918.98 1524.47 1918.98 1531.6 Q1918.98 1538.71 1920.78 1542.27 Q1922.61 1545.82 1926.22 1545.82 Q1929.86 1545.82 1931.66 1542.27 Q1933.49 1538.71 1933.49 1531.6 Q1933.49 1524.47 1931.66 1520.93 Q1929.86 1517.37 1926.22 1517.37 M1926.22 1513.66 Q1932.03 1513.66 1935.09 1518.27 Q1938.17 1522.85 1938.17 1531.6 Q1938.17 1540.33 1935.09 1544.94 Q1932.03 1549.52 1926.22 1549.52 Q1920.41 1549.52 1917.34 1544.94 Q1914.28 1540.33 1914.28 1531.6 Q1914.28 1522.85 1917.34 1518.27 Q1920.41 1513.66 1926.22 1513.66 Z\" fill=\"#000000\" fill-rule=\"nonzero\" fill-opacity=\"1\" /><path clip-path=\"url(#clip380)\" d=\"M1956.39 1517.37 Q1952.77 1517.37 1950.95 1520.93 Q1949.14 1524.47 1949.14 1531.6 Q1949.14 1538.71 1950.95 1542.27 Q1952.77 1545.82 1956.39 1545.82 Q1960.02 1545.82 1961.83 1542.27 Q1963.65 1538.71 1963.65 1531.6 Q1963.65 1524.47 1961.83 1520.93 Q1960.02 1517.37 1956.39 1517.37 M1956.39 1513.66 Q1962.2 1513.66 1965.25 1518.27 Q1968.33 1522.85 1968.33 1531.6 Q1968.33 1540.33 1965.25 1544.94 Q1962.2 1549.52 1956.39 1549.52 Q1950.58 1549.52 1947.5 1544.94 Q1944.44 1540.33 1944.44 1531.6 Q1944.44 1522.85 1947.5 1518.27 Q1950.58 1513.66 1956.39 1513.66 Z\" fill=\"#000000\" fill-rule=\"nonzero\" fill-opacity=\"1\" /><polyline clip-path=\"url(#clip382)\" style=\"stroke:#000000; stroke-linecap:round; stroke-linejoin:round; stroke-width:2; stroke-opacity:0.1; fill:none\" points=\"186.274,1445.72 2352.76,1445.72 \"/>\n",
       "<polyline clip-path=\"url(#clip382)\" style=\"stroke:#000000; stroke-linecap:round; stroke-linejoin:round; stroke-width:2; stroke-opacity:0.1; fill:none\" points=\"186.274,1106.28 2352.76,1106.28 \"/>\n",
       "<polyline clip-path=\"url(#clip382)\" style=\"stroke:#000000; stroke-linecap:round; stroke-linejoin:round; stroke-width:2; stroke-opacity:0.1; fill:none\" points=\"186.274,766.846 2352.76,766.846 \"/>\n",
       "<polyline clip-path=\"url(#clip382)\" style=\"stroke:#000000; stroke-linecap:round; stroke-linejoin:round; stroke-width:2; stroke-opacity:0.1; fill:none\" points=\"186.274,427.411 2352.76,427.411 \"/>\n",
       "<polyline clip-path=\"url(#clip382)\" style=\"stroke:#000000; stroke-linecap:round; stroke-linejoin:round; stroke-width:2; stroke-opacity:0.1; fill:none\" points=\"186.274,87.9763 2352.76,87.9763 \"/>\n",
       "<polyline clip-path=\"url(#clip380)\" style=\"stroke:#000000; stroke-linecap:round; stroke-linejoin:round; stroke-width:4; stroke-opacity:1; fill:none\" points=\"186.274,1486.45 186.274,47.2441 \"/>\n",
       "<polyline clip-path=\"url(#clip380)\" style=\"stroke:#000000; stroke-linecap:round; stroke-linejoin:round; stroke-width:4; stroke-opacity:1; fill:none\" points=\"186.274,1445.72 205.172,1445.72 \"/>\n",
       "<polyline clip-path=\"url(#clip380)\" style=\"stroke:#000000; stroke-linecap:round; stroke-linejoin:round; stroke-width:4; stroke-opacity:1; fill:none\" points=\"186.274,1106.28 205.172,1106.28 \"/>\n",
       "<polyline clip-path=\"url(#clip380)\" style=\"stroke:#000000; stroke-linecap:round; stroke-linejoin:round; stroke-width:4; stroke-opacity:1; fill:none\" points=\"186.274,766.846 205.172,766.846 \"/>\n",
       "<polyline clip-path=\"url(#clip380)\" style=\"stroke:#000000; stroke-linecap:round; stroke-linejoin:round; stroke-width:4; stroke-opacity:1; fill:none\" points=\"186.274,427.411 205.172,427.411 \"/>\n",
       "<polyline clip-path=\"url(#clip380)\" style=\"stroke:#000000; stroke-linecap:round; stroke-linejoin:round; stroke-width:4; stroke-opacity:1; fill:none\" points=\"186.274,87.9763 205.172,87.9763 \"/>\n",
       "<path clip-path=\"url(#clip380)\" d=\"M62.9365 1431.51 Q59.3254 1431.51 57.4967 1435.08 Q55.6912 1438.62 55.6912 1445.75 Q55.6912 1452.86 57.4967 1456.42 Q59.3254 1459.96 62.9365 1459.96 Q66.5707 1459.96 68.3763 1456.42 Q70.205 1452.86 70.205 1445.75 Q70.205 1438.62 68.3763 1435.08 Q66.5707 1431.51 62.9365 1431.51 M62.9365 1427.81 Q68.7467 1427.81 71.8022 1432.42 Q74.8809 1437 74.8809 1445.75 Q74.8809 1454.48 71.8022 1459.08 Q68.7467 1463.67 62.9365 1463.67 Q57.1264 1463.67 54.0477 1459.08 Q50.9921 1454.48 50.9921 1445.75 Q50.9921 1437 54.0477 1432.42 Q57.1264 1427.81 62.9365 1427.81 Z\" fill=\"#000000\" fill-rule=\"nonzero\" fill-opacity=\"1\" /><path clip-path=\"url(#clip380)\" d=\"M83.0984 1457.12 L87.9827 1457.12 L87.9827 1463 L83.0984 1463 L83.0984 1457.12 Z\" fill=\"#000000\" fill-rule=\"nonzero\" fill-opacity=\"1\" /><path clip-path=\"url(#clip380)\" d=\"M108.168 1431.51 Q104.557 1431.51 102.728 1435.08 Q100.922 1438.62 100.922 1445.75 Q100.922 1452.86 102.728 1456.42 Q104.557 1459.96 108.168 1459.96 Q111.802 1459.96 113.608 1456.42 Q115.436 1452.86 115.436 1445.75 Q115.436 1438.62 113.608 1435.08 Q111.802 1431.51 108.168 1431.51 M108.168 1427.81 Q113.978 1427.81 117.033 1432.42 Q120.112 1437 120.112 1445.75 Q120.112 1454.48 117.033 1459.08 Q113.978 1463.67 108.168 1463.67 Q102.358 1463.67 99.2789 1459.08 Q96.2234 1454.48 96.2234 1445.75 Q96.2234 1437 99.2789 1432.42 Q102.358 1427.81 108.168 1427.81 Z\" fill=\"#000000\" fill-rule=\"nonzero\" fill-opacity=\"1\" /><path clip-path=\"url(#clip380)\" d=\"M138.33 1431.51 Q134.719 1431.51 132.89 1435.08 Q131.084 1438.62 131.084 1445.75 Q131.084 1452.86 132.89 1456.42 Q134.719 1459.96 138.33 1459.96 Q141.964 1459.96 143.769 1456.42 Q145.598 1452.86 145.598 1445.75 Q145.598 1438.62 143.769 1435.08 Q141.964 1431.51 138.33 1431.51 M138.33 1427.81 Q144.14 1427.81 147.195 1432.42 Q150.274 1437 150.274 1445.75 Q150.274 1454.48 147.195 1459.08 Q144.14 1463.67 138.33 1463.67 Q132.519 1463.67 129.441 1459.08 Q126.385 1454.48 126.385 1445.75 Q126.385 1437 129.441 1432.42 Q132.519 1427.81 138.33 1427.81 Z\" fill=\"#000000\" fill-rule=\"nonzero\" fill-opacity=\"1\" /><path clip-path=\"url(#clip380)\" d=\"M63.9319 1092.08 Q60.3208 1092.08 58.4921 1095.64 Q56.6865 1099.19 56.6865 1106.32 Q56.6865 1113.42 58.4921 1116.99 Q60.3208 1120.53 63.9319 1120.53 Q67.5661 1120.53 69.3717 1116.99 Q71.2004 1113.42 71.2004 1106.32 Q71.2004 1099.19 69.3717 1095.64 Q67.5661 1092.08 63.9319 1092.08 M63.9319 1088.38 Q69.742 1088.38 72.7976 1092.98 Q75.8763 1097.57 75.8763 1106.32 Q75.8763 1115.04 72.7976 1119.65 Q69.742 1124.23 63.9319 1124.23 Q58.1217 1124.23 55.043 1119.65 Q51.9875 1115.04 51.9875 1106.32 Q51.9875 1097.57 55.043 1092.98 Q58.1217 1088.38 63.9319 1088.38 Z\" fill=\"#000000\" fill-rule=\"nonzero\" fill-opacity=\"1\" /><path clip-path=\"url(#clip380)\" d=\"M84.0938 1117.68 L88.978 1117.68 L88.978 1123.56 L84.0938 1123.56 L84.0938 1117.68 Z\" fill=\"#000000\" fill-rule=\"nonzero\" fill-opacity=\"1\" /><path clip-path=\"url(#clip380)\" d=\"M103.191 1119.63 L119.51 1119.63 L119.51 1123.56 L97.566 1123.56 L97.566 1119.63 Q100.228 1116.87 104.811 1112.24 Q109.418 1107.59 110.598 1106.25 Q112.844 1103.72 113.723 1101.99 Q114.626 1100.23 114.626 1098.54 Q114.626 1095.78 112.682 1094.05 Q110.76 1092.31 107.658 1092.31 Q105.459 1092.31 103.006 1093.07 Q100.575 1093.84 97.7974 1095.39 L97.7974 1090.67 Q100.621 1089.53 103.075 1088.95 Q105.529 1088.38 107.566 1088.38 Q112.936 1088.38 116.131 1091.06 Q119.325 1093.75 119.325 1098.24 Q119.325 1100.37 118.515 1102.29 Q117.728 1104.19 115.621 1106.78 Q115.043 1107.45 111.941 1110.67 Q108.839 1113.86 103.191 1119.63 Z\" fill=\"#000000\" fill-rule=\"nonzero\" fill-opacity=\"1\" /><path clip-path=\"url(#clip380)\" d=\"M129.371 1089 L147.728 1089 L147.728 1092.94 L133.654 1092.94 L133.654 1101.41 Q134.672 1101.06 135.691 1100.9 Q136.709 1100.71 137.728 1100.71 Q143.515 1100.71 146.894 1103.89 Q150.274 1107.06 150.274 1112.47 Q150.274 1118.05 146.802 1121.15 Q143.33 1124.23 137.01 1124.23 Q134.834 1124.23 132.566 1123.86 Q130.32 1123.49 127.913 1122.75 L127.913 1118.05 Q129.996 1119.19 132.219 1119.74 Q134.441 1120.3 136.918 1120.3 Q140.922 1120.3 143.26 1118.19 Q145.598 1116.08 145.598 1112.47 Q145.598 1108.86 143.26 1106.76 Q140.922 1104.65 136.918 1104.65 Q135.043 1104.65 133.168 1105.07 Q131.316 1105.48 129.371 1106.36 L129.371 1089 Z\" fill=\"#000000\" fill-rule=\"nonzero\" fill-opacity=\"1\" /><path clip-path=\"url(#clip380)\" d=\"M62.9365 752.645 Q59.3254 752.645 57.4967 756.209 Q55.6912 759.751 55.6912 766.881 Q55.6912 773.987 57.4967 777.552 Q59.3254 781.094 62.9365 781.094 Q66.5707 781.094 68.3763 777.552 Q70.205 773.987 70.205 766.881 Q70.205 759.751 68.3763 756.209 Q66.5707 752.645 62.9365 752.645 M62.9365 748.941 Q68.7467 748.941 71.8022 753.547 Q74.8809 758.131 74.8809 766.881 Q74.8809 775.608 71.8022 780.214 Q68.7467 784.797 62.9365 784.797 Q57.1264 784.797 54.0477 780.214 Q50.9921 775.608 50.9921 766.881 Q50.9921 758.131 54.0477 753.547 Q57.1264 748.941 62.9365 748.941 Z\" fill=\"#000000\" fill-rule=\"nonzero\" fill-opacity=\"1\" /><path clip-path=\"url(#clip380)\" d=\"M83.0984 778.246 L87.9827 778.246 L87.9827 784.126 L83.0984 784.126 L83.0984 778.246 Z\" fill=\"#000000\" fill-rule=\"nonzero\" fill-opacity=\"1\" /><path clip-path=\"url(#clip380)\" d=\"M98.2141 749.566 L116.57 749.566 L116.57 753.501 L102.496 753.501 L102.496 761.973 Q103.515 761.626 104.534 761.464 Q105.552 761.279 106.571 761.279 Q112.358 761.279 115.737 764.45 Q119.117 767.621 119.117 773.038 Q119.117 778.617 115.645 781.719 Q112.172 784.797 105.853 784.797 Q103.677 784.797 101.409 784.427 Q99.1632 784.057 96.7558 783.316 L96.7558 778.617 Q98.8391 779.751 101.061 780.307 Q103.284 780.862 105.76 780.862 Q109.765 780.862 112.103 778.756 Q114.441 776.649 114.441 773.038 Q114.441 769.427 112.103 767.321 Q109.765 765.214 105.76 765.214 Q103.885 765.214 102.01 765.631 Q100.159 766.047 98.2141 766.927 L98.2141 749.566 Z\" fill=\"#000000\" fill-rule=\"nonzero\" fill-opacity=\"1\" /><path clip-path=\"url(#clip380)\" d=\"M138.33 752.645 Q134.719 752.645 132.89 756.209 Q131.084 759.751 131.084 766.881 Q131.084 773.987 132.89 777.552 Q134.719 781.094 138.33 781.094 Q141.964 781.094 143.769 777.552 Q145.598 773.987 145.598 766.881 Q145.598 759.751 143.769 756.209 Q141.964 752.645 138.33 752.645 M138.33 748.941 Q144.14 748.941 147.195 753.547 Q150.274 758.131 150.274 766.881 Q150.274 775.608 147.195 780.214 Q144.14 784.797 138.33 784.797 Q132.519 784.797 129.441 780.214 Q126.385 775.608 126.385 766.881 Q126.385 758.131 129.441 753.547 Q132.519 748.941 138.33 748.941 Z\" fill=\"#000000\" fill-rule=\"nonzero\" fill-opacity=\"1\" /><path clip-path=\"url(#clip380)\" d=\"M63.9319 413.21 Q60.3208 413.21 58.4921 416.775 Q56.6865 420.316 56.6865 427.446 Q56.6865 434.552 58.4921 438.117 Q60.3208 441.659 63.9319 441.659 Q67.5661 441.659 69.3717 438.117 Q71.2004 434.552 71.2004 427.446 Q71.2004 420.316 69.3717 416.775 Q67.5661 413.21 63.9319 413.21 M63.9319 409.506 Q69.742 409.506 72.7976 414.113 Q75.8763 418.696 75.8763 427.446 Q75.8763 436.173 72.7976 440.779 Q69.742 445.362 63.9319 445.362 Q58.1217 445.362 55.043 440.779 Q51.9875 436.173 51.9875 427.446 Q51.9875 418.696 55.043 414.113 Q58.1217 409.506 63.9319 409.506 Z\" fill=\"#000000\" fill-rule=\"nonzero\" fill-opacity=\"1\" /><path clip-path=\"url(#clip380)\" d=\"M84.0938 438.812 L88.978 438.812 L88.978 444.691 L84.0938 444.691 L84.0938 438.812 Z\" fill=\"#000000\" fill-rule=\"nonzero\" fill-opacity=\"1\" /><path clip-path=\"url(#clip380)\" d=\"M97.9826 410.131 L120.205 410.131 L120.205 412.122 L107.658 444.691 L102.774 444.691 L114.58 414.066 L97.9826 414.066 L97.9826 410.131 Z\" fill=\"#000000\" fill-rule=\"nonzero\" fill-opacity=\"1\" /><path clip-path=\"url(#clip380)\" d=\"M129.371 410.131 L147.728 410.131 L147.728 414.066 L133.654 414.066 L133.654 422.538 Q134.672 422.191 135.691 422.029 Q136.709 421.844 137.728 421.844 Q143.515 421.844 146.894 425.015 Q150.274 428.187 150.274 433.603 Q150.274 439.182 146.802 442.284 Q143.33 445.362 137.01 445.362 Q134.834 445.362 132.566 444.992 Q130.32 444.622 127.913 443.881 L127.913 439.182 Q129.996 440.316 132.219 440.872 Q134.441 441.427 136.918 441.427 Q140.922 441.427 143.26 439.321 Q145.598 437.214 145.598 433.603 Q145.598 429.992 143.26 427.886 Q140.922 425.779 136.918 425.779 Q135.043 425.779 133.168 426.196 Q131.316 426.613 129.371 427.492 L129.371 410.131 Z\" fill=\"#000000\" fill-rule=\"nonzero\" fill-opacity=\"1\" /><path clip-path=\"url(#clip380)\" d=\"M53.7467 101.321 L61.3856 101.321 L61.3856 74.9555 L53.0754 76.6222 L53.0754 72.3629 L61.3393 70.6963 L66.0152 70.6963 L66.0152 101.321 L73.654 101.321 L73.654 105.256 L53.7467 105.256 L53.7467 101.321 Z\" fill=\"#000000\" fill-rule=\"nonzero\" fill-opacity=\"1\" /><path clip-path=\"url(#clip380)\" d=\"M83.0984 99.3767 L87.9827 99.3767 L87.9827 105.256 L83.0984 105.256 L83.0984 99.3767 Z\" fill=\"#000000\" fill-rule=\"nonzero\" fill-opacity=\"1\" /><path clip-path=\"url(#clip380)\" d=\"M108.168 73.775 Q104.557 73.775 102.728 77.3398 Q100.922 80.8814 100.922 88.011 Q100.922 95.1174 102.728 98.6822 Q104.557 102.224 108.168 102.224 Q111.802 102.224 113.608 98.6822 Q115.436 95.1174 115.436 88.011 Q115.436 80.8814 113.608 77.3398 Q111.802 73.775 108.168 73.775 M108.168 70.0713 Q113.978 70.0713 117.033 74.6777 Q120.112 79.261 120.112 88.011 Q120.112 96.7378 117.033 101.344 Q113.978 105.928 108.168 105.928 Q102.358 105.928 99.2789 101.344 Q96.2234 96.7378 96.2234 88.011 Q96.2234 79.261 99.2789 74.6777 Q102.358 70.0713 108.168 70.0713 Z\" fill=\"#000000\" fill-rule=\"nonzero\" fill-opacity=\"1\" /><path clip-path=\"url(#clip380)\" d=\"M138.33 73.775 Q134.719 73.775 132.89 77.3398 Q131.084 80.8814 131.084 88.011 Q131.084 95.1174 132.89 98.6822 Q134.719 102.224 138.33 102.224 Q141.964 102.224 143.769 98.6822 Q145.598 95.1174 145.598 88.011 Q145.598 80.8814 143.769 77.3398 Q141.964 73.775 138.33 73.775 M138.33 70.0713 Q144.14 70.0713 147.195 74.6777 Q150.274 79.261 150.274 88.011 Q150.274 96.7378 147.195 101.344 Q144.14 105.928 138.33 105.928 Q132.519 105.928 129.441 101.344 Q126.385 96.7378 126.385 88.011 Q126.385 79.261 129.441 74.6777 Q132.519 70.0713 138.33 70.0713 Z\" fill=\"#000000\" fill-rule=\"nonzero\" fill-opacity=\"1\" /><polyline clip-path=\"url(#clip382)\" style=\"stroke:#009af9; stroke-linecap:round; stroke-linejoin:round; stroke-width:4; stroke-opacity:1; fill:none\" points=\"247.59,1445.72 253.205,1442 258.819,1434.58 264.434,1423.51 270.049,1408.87 275.664,1390.78 281.279,1369.36 286.894,1344.79 292.509,1317.24 298.124,1286.93 303.739,1254.08 309.354,1218.94 314.969,1181.76 320.584,1142.8 326.199,1102.34 331.814,1060.66 337.429,1018.02 343.044,974.7 348.659,930.972 354.274,887.09 359.889,843.303 365.504,799.845 371.119,756.938 376.734,714.784 382.349,673.57 387.964,633.461 393.579,594.604 399.194,557.128 404.809,521.138 410.424,486.722 416.039,453.949 421.654,422.866 427.269,393.506 432.884,365.883 438.499,339.995 444.114,315.829 449.729,293.356 455.344,272.537 460.959,253.322 466.574,235.655 472.189,219.471 477.803,204.7 483.418,191.269 489.033,179.1 494.648,168.116 500.263,158.235 505.878,149.381 511.493,141.474 517.108,134.439 522.723,128.201 528.338,122.691 533.953,117.84 539.568,113.586 545.183,109.867 550.798,106.629 556.413,103.818 562.028,101.387 567.643,99.2931 573.258,97.4948 578.873,95.9562 584.488,94.6444 590.103,93.53 595.718,92.5866 601.333,91.7909 606.948,91.122 612.563,90.5618 618.178,90.0943 623.793,89.7055 629.408,89.3833 635.023,89.1174 640.638,88.8985 646.253,88.7191 651.868,88.5726 657.483,88.4533 663.098,88.3566 668.713,88.2785 674.328,88.2155 679.943,88.1651 685.558,88.1247 691.173,88.0926 696.788,88.0671 702.402,88.0469 708.017,88.0311 713.632,88.0186 719.247,88.0089 724.862,88.0013 730.477,87.9954 736.092,87.9908 741.707,87.9873 747.322,87.9846 752.937,87.9826 758.552,87.981 764.167,87.9798 769.782,87.9789 775.397,87.9782 781.012,87.9777 786.627,87.9773 792.242,87.9771 797.857,87.9768 803.472,87.9767 809.087,87.9766 814.702,87.9765 820.317,87.9764 825.932,87.9764 831.547,87.9764 837.162,87.9763 842.777,87.9763 848.392,87.9763 854.007,87.9763 859.622,87.9763 865.237,87.9763 870.852,87.9763 876.467,87.9763 882.082,87.9763 887.697,87.9763 893.312,87.9763 898.927,87.9763 904.542,87.9763 910.157,87.9763 915.772,87.9763 921.387,87.9763 927.001,87.9763 932.616,87.9763 938.231,87.9763 943.846,87.9763 949.461,87.9763 955.076,87.9763 960.691,87.9763 966.306,87.9763 971.921,87.9763 977.536,87.9763 983.151,87.9763 988.766,87.9763 994.381,87.9763 999.996,87.9763 1005.61,87.9763 1011.23,87.9763 1016.84,87.9763 1022.46,87.9763 1028.07,87.9763 1033.69,87.9763 1039.3,87.9763 1044.92,87.9763 1050.53,87.9763 1056.15,87.9763 1061.76,87.9763 1067.38,87.9763 1072.99,87.9763 1078.61,87.9763 1084.22,87.9763 1089.84,87.9763 1095.45,87.9763 1101.07,87.9763 1106.68,87.9763 1112.3,87.9763 1117.91,87.9763 1123.53,87.9763 1129.14,87.9763 1134.76,87.9763 1140.37,87.9763 1145.99,87.9763 1151.6,87.9763 1157.22,87.9763 1162.83,87.9763 1168.45,87.9763 1174.06,87.9763 1179.68,87.9763 1185.29,87.9763 1190.91,87.9763 1196.52,87.9763 1202.14,87.9763 1207.75,87.9763 1213.37,87.9763 1218.98,87.9763 1224.6,87.9763 1230.21,87.9763 1235.83,87.9763 1241.44,87.9763 1247.06,87.9763 1252.67,87.9763 1258.29,87.9763 1263.9,87.9763 1269.51,87.9763 1275.13,87.9763 1280.74,87.9763 1286.36,87.9763 1291.97,87.9763 1297.59,87.9763 1303.2,87.9763 1308.82,87.9763 1314.43,87.9763 1320.05,87.9763 1325.66,87.9763 1331.28,87.9763 1336.89,87.9763 1342.51,87.9763 1348.12,87.9763 1353.74,87.9763 1359.35,87.9763 1364.97,87.9763 1370.58,87.9763 1376.2,87.9763 1381.81,87.9763 1387.43,87.9763 1393.04,87.9763 1398.66,87.9763 1404.27,87.9763 1409.89,87.9763 1415.5,87.9763 1421.12,87.9763 1426.73,87.9763 1432.35,87.9763 1437.96,87.9763 1443.58,87.9763 1449.19,87.9763 1454.81,87.9763 1460.42,87.9763 1466.04,87.9763 1471.65,87.9763 1477.27,87.9763 1482.88,87.9763 1488.5,87.9763 1494.11,87.9763 1499.73,87.9763 1505.34,87.9763 1510.96,87.9763 1516.57,87.9763 1522.19,87.9763 1527.8,87.9763 1533.42,87.9763 1539.03,87.9763 1544.65,87.9763 1550.26,87.9763 1555.88,87.9763 1561.49,87.9763 1567.11,87.9763 1572.72,87.9763 1578.34,87.9763 1583.95,87.9763 1589.57,87.9763 1595.18,87.9763 1600.8,87.9763 1606.41,87.9763 1612.03,87.9763 1617.64,87.9763 1623.26,87.9763 1628.87,87.9763 1634.49,87.9763 1640.1,87.9763 1645.72,87.9763 1651.33,87.9763 1656.95,87.9763 1662.56,87.9763 1668.18,87.9763 1673.79,87.9763 1679.41,87.9763 1685.02,87.9763 1690.64,87.9763 1696.25,87.9763 1701.87,87.9763 1707.48,87.9763 1713.1,87.9763 1718.71,87.9763 1724.33,87.9763 1729.94,87.9763 1735.56,87.9763 1741.17,87.9763 1746.79,87.9763 1752.4,87.9763 1758.02,87.9763 1763.63,87.9763 1769.25,87.9763 1774.86,87.9763 1780.48,87.9763 1786.09,87.9763 1791.71,87.9763 1797.32,87.9763 1802.94,87.9763 1808.55,87.9763 1814.17,87.9763 1819.78,87.9763 1825.4,87.9763 1831.01,87.9763 1836.63,87.9763 1842.24,87.9763 1847.86,87.9763 1853.47,87.9763 1859.09,87.9763 1864.7,87.9763 1870.32,87.9763 1875.93,87.9763 1881.55,87.9763 1887.16,87.9763 1892.78,87.9763 1898.39,87.9763 1904.01,87.9763 1909.62,87.9763 1915.24,87.9763 1920.85,87.9763 1926.47,87.9763 1932.08,87.9763 1937.7,87.9763 1943.31,87.9763 1948.93,87.9763 1954.54,87.9763 1960.16,87.9763 1965.77,87.9763 1971.39,87.9763 1977,87.9763 1982.62,87.9763 1988.23,87.9763 1993.85,87.9763 1999.46,87.9763 2005.08,87.9763 2010.69,87.9763 2016.31,87.9763 2021.92,87.9763 2027.54,87.9763 2033.15,87.9763 2038.77,87.9763 2044.38,87.9763 2050,87.9763 2055.61,87.9763 2061.23,87.9763 2066.84,87.9763 2072.46,87.9763 2078.07,87.9763 2083.69,87.9763 2089.3,87.9763 2094.92,87.9763 2100.53,87.9763 2106.15,87.9763 2111.76,87.9763 2117.38,87.9763 2122.99,87.9763 2128.61,87.9763 2134.22,87.9763 2139.84,87.9763 2145.45,87.9763 2151.07,87.9763 2156.68,87.9763 2162.3,87.9763 2167.91,87.9763 2173.53,87.9763 2179.14,87.9763 2184.76,87.9763 2190.37,87.9763 2195.99,87.9763 2201.6,87.9763 2207.22,87.9763 2212.83,87.9763 2218.45,87.9763 2224.06,87.9763 2229.68,87.9763 2235.29,87.9763 2240.91,87.9763 2246.52,87.9763 2252.14,87.9763 2257.75,87.9763 2263.37,87.9763 2268.98,87.9763 2274.6,87.9763 2280.21,87.9763 2285.83,87.9763 2291.44,87.9763 \"/>\n",
       "<path clip-path=\"url(#clip380)\" d=\"M2011.46 1438.47 L2280.54 1438.47 L2280.54 1334.79 L2011.46 1334.79  Z\" fill=\"#ffffff\" fill-rule=\"evenodd\" fill-opacity=\"1\"/>\n",
       "<polyline clip-path=\"url(#clip380)\" style=\"stroke:#000000; stroke-linecap:round; stroke-linejoin:round; stroke-width:4; stroke-opacity:1; fill:none\" points=\"2011.46,1438.47 2280.54,1438.47 2280.54,1334.79 2011.46,1334.79 2011.46,1438.47 \"/>\n",
       "<polyline clip-path=\"url(#clip380)\" style=\"stroke:#009af9; stroke-linecap:round; stroke-linejoin:round; stroke-width:4; stroke-opacity:1; fill:none\" points=\"2035.53,1386.63 2179.97,1386.63 \"/>\n",
       "<path clip-path=\"url(#clip380)\" d=\"M2217.88 1406.32 Q2216.07 1410.95 2214.36 1412.36 Q2212.65 1413.78 2209.78 1413.78 L2206.38 1413.78 L2206.38 1410.21 L2208.88 1410.21 Q2210.63 1410.21 2211.61 1409.38 Q2212.58 1408.54 2213.76 1405.44 L2214.52 1403.5 L2204.04 1377.99 L2208.55 1377.99 L2216.65 1398.27 L2224.76 1377.99 L2229.27 1377.99 L2217.88 1406.32 Z\" fill=\"#000000\" fill-rule=\"nonzero\" fill-opacity=\"1\" /><path clip-path=\"url(#clip380)\" d=\"M2236.56 1399.98 L2244.2 1399.98 L2244.2 1373.61 L2235.89 1375.28 L2235.89 1371.02 L2244.15 1369.35 L2248.83 1369.35 L2248.83 1399.98 L2256.47 1399.98 L2256.47 1403.91 L2236.56 1403.91 L2236.56 1399.98 Z\" fill=\"#000000\" fill-rule=\"nonzero\" fill-opacity=\"1\" /></svg>\n"
      ],
      "text/html": [
       "<?xml version=\"1.0\" encoding=\"utf-8\"?>\n",
       "<svg xmlns=\"http://www.w3.org/2000/svg\" xmlns:xlink=\"http://www.w3.org/1999/xlink\" width=\"600\" height=\"400\" viewBox=\"0 0 2400 1600\">\n",
       "<defs>\n",
       "  <clipPath id=\"clip430\">\n",
       "    <rect x=\"0\" y=\"0\" width=\"2400\" height=\"1600\"/>\n",
       "  </clipPath>\n",
       "</defs>\n",
       "<path clip-path=\"url(#clip430)\" d=\"M0 1600 L2400 1600 L2400 0 L0 0  Z\" fill=\"#ffffff\" fill-rule=\"evenodd\" fill-opacity=\"1\"/>\n",
       "<defs>\n",
       "  <clipPath id=\"clip431\">\n",
       "    <rect x=\"480\" y=\"0\" width=\"1681\" height=\"1600\"/>\n",
       "  </clipPath>\n",
       "</defs>\n",
       "<path clip-path=\"url(#clip430)\" d=\"M186.274 1486.45 L2352.76 1486.45 L2352.76 47.2441 L186.274 47.2441  Z\" fill=\"#ffffff\" fill-rule=\"evenodd\" fill-opacity=\"1\"/>\n",
       "<defs>\n",
       "  <clipPath id=\"clip432\">\n",
       "    <rect x=\"186\" y=\"47\" width=\"2167\" height=\"1440\"/>\n",
       "  </clipPath>\n",
       "</defs>\n",
       "<polyline clip-path=\"url(#clip432)\" style=\"stroke:#000000; stroke-linecap:round; stroke-linejoin:round; stroke-width:2; stroke-opacity:0.1; fill:none\" points=\"241.975,1486.45 241.975,47.2441 \"/>\n",
       "<polyline clip-path=\"url(#clip432)\" style=\"stroke:#000000; stroke-linecap:round; stroke-linejoin:round; stroke-width:2; stroke-opacity:0.1; fill:none\" points=\"803.472,1486.45 803.472,47.2441 \"/>\n",
       "<polyline clip-path=\"url(#clip432)\" style=\"stroke:#000000; stroke-linecap:round; stroke-linejoin:round; stroke-width:2; stroke-opacity:0.1; fill:none\" points=\"1364.97,1486.45 1364.97,47.2441 \"/>\n",
       "<polyline clip-path=\"url(#clip432)\" style=\"stroke:#000000; stroke-linecap:round; stroke-linejoin:round; stroke-width:2; stroke-opacity:0.1; fill:none\" points=\"1926.47,1486.45 1926.47,47.2441 \"/>\n",
       "<polyline clip-path=\"url(#clip430)\" style=\"stroke:#000000; stroke-linecap:round; stroke-linejoin:round; stroke-width:4; stroke-opacity:1; fill:none\" points=\"186.274,1486.45 2352.76,1486.45 \"/>\n",
       "<polyline clip-path=\"url(#clip430)\" style=\"stroke:#000000; stroke-linecap:round; stroke-linejoin:round; stroke-width:4; stroke-opacity:1; fill:none\" points=\"241.975,1486.45 241.975,1467.55 \"/>\n",
       "<polyline clip-path=\"url(#clip430)\" style=\"stroke:#000000; stroke-linecap:round; stroke-linejoin:round; stroke-width:4; stroke-opacity:1; fill:none\" points=\"803.472,1486.45 803.472,1467.55 \"/>\n",
       "<polyline clip-path=\"url(#clip430)\" style=\"stroke:#000000; stroke-linecap:round; stroke-linejoin:round; stroke-width:4; stroke-opacity:1; fill:none\" points=\"1364.97,1486.45 1364.97,1467.55 \"/>\n",
       "<polyline clip-path=\"url(#clip430)\" style=\"stroke:#000000; stroke-linecap:round; stroke-linejoin:round; stroke-width:4; stroke-opacity:1; fill:none\" points=\"1926.47,1486.45 1926.47,1467.55 \"/>\n",
       "<path clip-path=\"url(#clip430)\" d=\"M241.975 1517.37 Q238.363 1517.37 236.535 1520.93 Q234.729 1524.47 234.729 1531.6 Q234.729 1538.71 236.535 1542.27 Q238.363 1545.82 241.975 1545.82 Q245.609 1545.82 247.414 1542.27 Q249.243 1538.71 249.243 1531.6 Q249.243 1524.47 247.414 1520.93 Q245.609 1517.37 241.975 1517.37 M241.975 1513.66 Q247.785 1513.66 250.84 1518.27 Q253.919 1522.85 253.919 1531.6 Q253.919 1540.33 250.84 1544.94 Q247.785 1549.52 241.975 1549.52 Q236.164 1549.52 233.086 1544.94 Q230.03 1540.33 230.03 1531.6 Q230.03 1522.85 233.086 1518.27 Q236.164 1513.66 241.975 1513.66 Z\" fill=\"#000000\" fill-rule=\"nonzero\" fill-opacity=\"1\" /><path clip-path=\"url(#clip430)\" d=\"M763.079 1544.91 L770.718 1544.91 L770.718 1518.55 L762.407 1520.21 L762.407 1515.95 L770.671 1514.29 L775.347 1514.29 L775.347 1544.91 L782.986 1544.91 L782.986 1548.85 L763.079 1548.85 L763.079 1544.91 Z\" fill=\"#000000\" fill-rule=\"nonzero\" fill-opacity=\"1\" /><path clip-path=\"url(#clip430)\" d=\"M802.43 1517.37 Q798.819 1517.37 796.991 1520.93 Q795.185 1524.47 795.185 1531.6 Q795.185 1538.71 796.991 1542.27 Q798.819 1545.82 802.43 1545.82 Q806.065 1545.82 807.87 1542.27 Q809.699 1538.71 809.699 1531.6 Q809.699 1524.47 807.87 1520.93 Q806.065 1517.37 802.43 1517.37 M802.43 1513.66 Q808.241 1513.66 811.296 1518.27 Q814.375 1522.85 814.375 1531.6 Q814.375 1540.33 811.296 1544.94 Q808.241 1549.52 802.43 1549.52 Q796.62 1549.52 793.542 1544.94 Q790.486 1540.33 790.486 1531.6 Q790.486 1522.85 793.542 1518.27 Q796.62 1513.66 802.43 1513.66 Z\" fill=\"#000000\" fill-rule=\"nonzero\" fill-opacity=\"1\" /><path clip-path=\"url(#clip430)\" d=\"M832.592 1517.37 Q828.981 1517.37 827.152 1520.93 Q825.347 1524.47 825.347 1531.6 Q825.347 1538.71 827.152 1542.27 Q828.981 1545.82 832.592 1545.82 Q836.226 1545.82 838.032 1542.27 Q839.861 1538.71 839.861 1531.6 Q839.861 1524.47 838.032 1520.93 Q836.226 1517.37 832.592 1517.37 M832.592 1513.66 Q838.402 1513.66 841.458 1518.27 Q844.537 1522.85 844.537 1531.6 Q844.537 1540.33 841.458 1544.94 Q838.402 1549.52 832.592 1549.52 Q826.782 1549.52 823.703 1544.94 Q820.648 1540.33 820.648 1531.6 Q820.648 1522.85 823.703 1518.27 Q826.782 1513.66 832.592 1513.66 Z\" fill=\"#000000\" fill-rule=\"nonzero\" fill-opacity=\"1\" /><path clip-path=\"url(#clip430)\" d=\"M1328.66 1544.91 L1344.98 1544.91 L1344.98 1548.85 L1323.04 1548.85 L1323.04 1544.91 Q1325.7 1542.16 1330.28 1537.53 Q1334.89 1532.88 1336.07 1531.53 Q1338.31 1529.01 1339.19 1527.27 Q1340.1 1525.51 1340.1 1523.82 Q1340.1 1521.07 1338.15 1519.33 Q1336.23 1517.6 1333.13 1517.6 Q1330.93 1517.6 1328.48 1518.36 Q1326.05 1519.13 1323.27 1520.68 L1323.27 1515.95 Q1326.09 1514.82 1328.55 1514.24 Q1331 1513.66 1333.04 1513.66 Q1338.41 1513.66 1341.6 1516.35 Q1344.8 1519.03 1344.8 1523.52 Q1344.8 1525.65 1343.99 1527.57 Q1343.2 1529.47 1341.09 1532.07 Q1340.51 1532.74 1337.41 1535.95 Q1334.31 1539.15 1328.66 1544.91 Z\" fill=\"#000000\" fill-rule=\"nonzero\" fill-opacity=\"1\" /><path clip-path=\"url(#clip430)\" d=\"M1364.8 1517.37 Q1361.18 1517.37 1359.36 1520.93 Q1357.55 1524.47 1357.55 1531.6 Q1357.55 1538.71 1359.36 1542.27 Q1361.18 1545.82 1364.8 1545.82 Q1368.43 1545.82 1370.24 1542.27 Q1372.06 1538.71 1372.06 1531.6 Q1372.06 1524.47 1370.24 1520.93 Q1368.43 1517.37 1364.8 1517.37 M1364.8 1513.66 Q1370.61 1513.66 1373.66 1518.27 Q1376.74 1522.85 1376.74 1531.6 Q1376.74 1540.33 1373.66 1544.94 Q1370.61 1549.52 1364.8 1549.52 Q1358.99 1549.52 1355.91 1544.94 Q1352.85 1540.33 1352.85 1531.6 Q1352.85 1522.85 1355.91 1518.27 Q1358.99 1513.66 1364.8 1513.66 Z\" fill=\"#000000\" fill-rule=\"nonzero\" fill-opacity=\"1\" /><path clip-path=\"url(#clip430)\" d=\"M1394.96 1517.37 Q1391.35 1517.37 1389.52 1520.93 Q1387.71 1524.47 1387.71 1531.6 Q1387.71 1538.71 1389.52 1542.27 Q1391.35 1545.82 1394.96 1545.82 Q1398.59 1545.82 1400.4 1542.27 Q1402.23 1538.71 1402.23 1531.6 Q1402.23 1524.47 1400.4 1520.93 Q1398.59 1517.37 1394.96 1517.37 M1394.96 1513.66 Q1400.77 1513.66 1403.82 1518.27 Q1406.9 1522.85 1406.9 1531.6 Q1406.9 1540.33 1403.82 1544.94 Q1400.77 1549.52 1394.96 1549.52 Q1389.15 1549.52 1386.07 1544.94 Q1383.01 1540.33 1383.01 1531.6 Q1383.01 1522.85 1386.07 1518.27 Q1389.15 1513.66 1394.96 1513.66 Z\" fill=\"#000000\" fill-rule=\"nonzero\" fill-opacity=\"1\" /><path clip-path=\"url(#clip430)\" d=\"M1900.23 1530.21 Q1903.59 1530.93 1905.46 1533.2 Q1907.36 1535.47 1907.36 1538.8 Q1907.36 1543.92 1903.84 1546.72 Q1900.32 1549.52 1893.84 1549.52 Q1891.66 1549.52 1889.35 1549.08 Q1887.06 1548.66 1884.6 1547.81 L1884.6 1543.29 Q1886.55 1544.43 1888.86 1545.01 Q1891.18 1545.58 1893.7 1545.58 Q1898.1 1545.58 1900.39 1543.85 Q1902.71 1542.11 1902.71 1538.8 Q1902.71 1535.75 1900.55 1534.03 Q1898.42 1532.3 1894.6 1532.3 L1890.58 1532.3 L1890.58 1528.45 L1894.79 1528.45 Q1898.24 1528.45 1900.07 1527.09 Q1901.9 1525.7 1901.9 1523.11 Q1901.9 1520.45 1900 1519.03 Q1898.12 1517.6 1894.6 1517.6 Q1892.68 1517.6 1890.48 1518.01 Q1888.28 1518.43 1885.65 1519.31 L1885.65 1515.14 Q1888.31 1514.4 1890.62 1514.03 Q1892.96 1513.66 1895.02 1513.66 Q1900.34 1513.66 1903.45 1516.09 Q1906.55 1518.5 1906.55 1522.62 Q1906.55 1525.49 1904.9 1527.48 Q1903.26 1529.45 1900.23 1530.21 Z\" fill=\"#000000\" fill-rule=\"nonzero\" fill-opacity=\"1\" /><path clip-path=\"url(#clip430)\" d=\"M1926.22 1517.37 Q1922.61 1517.37 1920.78 1520.93 Q1918.98 1524.47 1918.98 1531.6 Q1918.98 1538.71 1920.78 1542.27 Q1922.61 1545.82 1926.22 1545.82 Q1929.86 1545.82 1931.66 1542.27 Q1933.49 1538.71 1933.49 1531.6 Q1933.49 1524.47 1931.66 1520.93 Q1929.86 1517.37 1926.22 1517.37 M1926.22 1513.66 Q1932.03 1513.66 1935.09 1518.27 Q1938.17 1522.85 1938.17 1531.6 Q1938.17 1540.33 1935.09 1544.94 Q1932.03 1549.52 1926.22 1549.52 Q1920.41 1549.52 1917.34 1544.94 Q1914.28 1540.33 1914.28 1531.6 Q1914.28 1522.85 1917.34 1518.27 Q1920.41 1513.66 1926.22 1513.66 Z\" fill=\"#000000\" fill-rule=\"nonzero\" fill-opacity=\"1\" /><path clip-path=\"url(#clip430)\" d=\"M1956.39 1517.37 Q1952.77 1517.37 1950.95 1520.93 Q1949.14 1524.47 1949.14 1531.6 Q1949.14 1538.71 1950.95 1542.27 Q1952.77 1545.82 1956.39 1545.82 Q1960.02 1545.82 1961.83 1542.27 Q1963.65 1538.71 1963.65 1531.6 Q1963.65 1524.47 1961.83 1520.93 Q1960.02 1517.37 1956.39 1517.37 M1956.39 1513.66 Q1962.2 1513.66 1965.25 1518.27 Q1968.33 1522.85 1968.33 1531.6 Q1968.33 1540.33 1965.25 1544.94 Q1962.2 1549.52 1956.39 1549.52 Q1950.58 1549.52 1947.5 1544.94 Q1944.44 1540.33 1944.44 1531.6 Q1944.44 1522.85 1947.5 1518.27 Q1950.58 1513.66 1956.39 1513.66 Z\" fill=\"#000000\" fill-rule=\"nonzero\" fill-opacity=\"1\" /><polyline clip-path=\"url(#clip432)\" style=\"stroke:#000000; stroke-linecap:round; stroke-linejoin:round; stroke-width:2; stroke-opacity:0.1; fill:none\" points=\"186.274,1445.72 2352.76,1445.72 \"/>\n",
       "<polyline clip-path=\"url(#clip432)\" style=\"stroke:#000000; stroke-linecap:round; stroke-linejoin:round; stroke-width:2; stroke-opacity:0.1; fill:none\" points=\"186.274,1106.28 2352.76,1106.28 \"/>\n",
       "<polyline clip-path=\"url(#clip432)\" style=\"stroke:#000000; stroke-linecap:round; stroke-linejoin:round; stroke-width:2; stroke-opacity:0.1; fill:none\" points=\"186.274,766.846 2352.76,766.846 \"/>\n",
       "<polyline clip-path=\"url(#clip432)\" style=\"stroke:#000000; stroke-linecap:round; stroke-linejoin:round; stroke-width:2; stroke-opacity:0.1; fill:none\" points=\"186.274,427.411 2352.76,427.411 \"/>\n",
       "<polyline clip-path=\"url(#clip432)\" style=\"stroke:#000000; stroke-linecap:round; stroke-linejoin:round; stroke-width:2; stroke-opacity:0.1; fill:none\" points=\"186.274,87.9763 2352.76,87.9763 \"/>\n",
       "<polyline clip-path=\"url(#clip430)\" style=\"stroke:#000000; stroke-linecap:round; stroke-linejoin:round; stroke-width:4; stroke-opacity:1; fill:none\" points=\"186.274,1486.45 186.274,47.2441 \"/>\n",
       "<polyline clip-path=\"url(#clip430)\" style=\"stroke:#000000; stroke-linecap:round; stroke-linejoin:round; stroke-width:4; stroke-opacity:1; fill:none\" points=\"186.274,1445.72 205.172,1445.72 \"/>\n",
       "<polyline clip-path=\"url(#clip430)\" style=\"stroke:#000000; stroke-linecap:round; stroke-linejoin:round; stroke-width:4; stroke-opacity:1; fill:none\" points=\"186.274,1106.28 205.172,1106.28 \"/>\n",
       "<polyline clip-path=\"url(#clip430)\" style=\"stroke:#000000; stroke-linecap:round; stroke-linejoin:round; stroke-width:4; stroke-opacity:1; fill:none\" points=\"186.274,766.846 205.172,766.846 \"/>\n",
       "<polyline clip-path=\"url(#clip430)\" style=\"stroke:#000000; stroke-linecap:round; stroke-linejoin:round; stroke-width:4; stroke-opacity:1; fill:none\" points=\"186.274,427.411 205.172,427.411 \"/>\n",
       "<polyline clip-path=\"url(#clip430)\" style=\"stroke:#000000; stroke-linecap:round; stroke-linejoin:round; stroke-width:4; stroke-opacity:1; fill:none\" points=\"186.274,87.9763 205.172,87.9763 \"/>\n",
       "<path clip-path=\"url(#clip430)\" d=\"M62.9365 1431.51 Q59.3254 1431.51 57.4967 1435.08 Q55.6912 1438.62 55.6912 1445.75 Q55.6912 1452.86 57.4967 1456.42 Q59.3254 1459.96 62.9365 1459.96 Q66.5707 1459.96 68.3763 1456.42 Q70.205 1452.86 70.205 1445.75 Q70.205 1438.62 68.3763 1435.08 Q66.5707 1431.51 62.9365 1431.51 M62.9365 1427.81 Q68.7467 1427.81 71.8022 1432.42 Q74.8809 1437 74.8809 1445.75 Q74.8809 1454.48 71.8022 1459.08 Q68.7467 1463.67 62.9365 1463.67 Q57.1264 1463.67 54.0477 1459.08 Q50.9921 1454.48 50.9921 1445.75 Q50.9921 1437 54.0477 1432.42 Q57.1264 1427.81 62.9365 1427.81 Z\" fill=\"#000000\" fill-rule=\"nonzero\" fill-opacity=\"1\" /><path clip-path=\"url(#clip430)\" d=\"M83.0984 1457.12 L87.9827 1457.12 L87.9827 1463 L83.0984 1463 L83.0984 1457.12 Z\" fill=\"#000000\" fill-rule=\"nonzero\" fill-opacity=\"1\" /><path clip-path=\"url(#clip430)\" d=\"M108.168 1431.51 Q104.557 1431.51 102.728 1435.08 Q100.922 1438.62 100.922 1445.75 Q100.922 1452.86 102.728 1456.42 Q104.557 1459.96 108.168 1459.96 Q111.802 1459.96 113.608 1456.42 Q115.436 1452.86 115.436 1445.75 Q115.436 1438.62 113.608 1435.08 Q111.802 1431.51 108.168 1431.51 M108.168 1427.81 Q113.978 1427.81 117.033 1432.42 Q120.112 1437 120.112 1445.75 Q120.112 1454.48 117.033 1459.08 Q113.978 1463.67 108.168 1463.67 Q102.358 1463.67 99.2789 1459.08 Q96.2234 1454.48 96.2234 1445.75 Q96.2234 1437 99.2789 1432.42 Q102.358 1427.81 108.168 1427.81 Z\" fill=\"#000000\" fill-rule=\"nonzero\" fill-opacity=\"1\" /><path clip-path=\"url(#clip430)\" d=\"M138.33 1431.51 Q134.719 1431.51 132.89 1435.08 Q131.084 1438.62 131.084 1445.75 Q131.084 1452.86 132.89 1456.42 Q134.719 1459.96 138.33 1459.96 Q141.964 1459.96 143.769 1456.42 Q145.598 1452.86 145.598 1445.75 Q145.598 1438.62 143.769 1435.08 Q141.964 1431.51 138.33 1431.51 M138.33 1427.81 Q144.14 1427.81 147.195 1432.42 Q150.274 1437 150.274 1445.75 Q150.274 1454.48 147.195 1459.08 Q144.14 1463.67 138.33 1463.67 Q132.519 1463.67 129.441 1459.08 Q126.385 1454.48 126.385 1445.75 Q126.385 1437 129.441 1432.42 Q132.519 1427.81 138.33 1427.81 Z\" fill=\"#000000\" fill-rule=\"nonzero\" fill-opacity=\"1\" /><path clip-path=\"url(#clip430)\" d=\"M63.9319 1092.08 Q60.3208 1092.08 58.4921 1095.64 Q56.6865 1099.19 56.6865 1106.32 Q56.6865 1113.42 58.4921 1116.99 Q60.3208 1120.53 63.9319 1120.53 Q67.5661 1120.53 69.3717 1116.99 Q71.2004 1113.42 71.2004 1106.32 Q71.2004 1099.19 69.3717 1095.64 Q67.5661 1092.08 63.9319 1092.08 M63.9319 1088.38 Q69.742 1088.38 72.7976 1092.98 Q75.8763 1097.57 75.8763 1106.32 Q75.8763 1115.04 72.7976 1119.65 Q69.742 1124.23 63.9319 1124.23 Q58.1217 1124.23 55.043 1119.65 Q51.9875 1115.04 51.9875 1106.32 Q51.9875 1097.57 55.043 1092.98 Q58.1217 1088.38 63.9319 1088.38 Z\" fill=\"#000000\" fill-rule=\"nonzero\" fill-opacity=\"1\" /><path clip-path=\"url(#clip430)\" d=\"M84.0938 1117.68 L88.978 1117.68 L88.978 1123.56 L84.0938 1123.56 L84.0938 1117.68 Z\" fill=\"#000000\" fill-rule=\"nonzero\" fill-opacity=\"1\" /><path clip-path=\"url(#clip430)\" d=\"M103.191 1119.63 L119.51 1119.63 L119.51 1123.56 L97.566 1123.56 L97.566 1119.63 Q100.228 1116.87 104.811 1112.24 Q109.418 1107.59 110.598 1106.25 Q112.844 1103.72 113.723 1101.99 Q114.626 1100.23 114.626 1098.54 Q114.626 1095.78 112.682 1094.05 Q110.76 1092.31 107.658 1092.31 Q105.459 1092.31 103.006 1093.07 Q100.575 1093.84 97.7974 1095.39 L97.7974 1090.67 Q100.621 1089.53 103.075 1088.95 Q105.529 1088.38 107.566 1088.38 Q112.936 1088.38 116.131 1091.06 Q119.325 1093.75 119.325 1098.24 Q119.325 1100.37 118.515 1102.29 Q117.728 1104.19 115.621 1106.78 Q115.043 1107.45 111.941 1110.67 Q108.839 1113.86 103.191 1119.63 Z\" fill=\"#000000\" fill-rule=\"nonzero\" fill-opacity=\"1\" /><path clip-path=\"url(#clip430)\" d=\"M129.371 1089 L147.728 1089 L147.728 1092.94 L133.654 1092.94 L133.654 1101.41 Q134.672 1101.06 135.691 1100.9 Q136.709 1100.71 137.728 1100.71 Q143.515 1100.71 146.894 1103.89 Q150.274 1107.06 150.274 1112.47 Q150.274 1118.05 146.802 1121.15 Q143.33 1124.23 137.01 1124.23 Q134.834 1124.23 132.566 1123.86 Q130.32 1123.49 127.913 1122.75 L127.913 1118.05 Q129.996 1119.19 132.219 1119.74 Q134.441 1120.3 136.918 1120.3 Q140.922 1120.3 143.26 1118.19 Q145.598 1116.08 145.598 1112.47 Q145.598 1108.86 143.26 1106.76 Q140.922 1104.65 136.918 1104.65 Q135.043 1104.65 133.168 1105.07 Q131.316 1105.48 129.371 1106.36 L129.371 1089 Z\" fill=\"#000000\" fill-rule=\"nonzero\" fill-opacity=\"1\" /><path clip-path=\"url(#clip430)\" d=\"M62.9365 752.645 Q59.3254 752.645 57.4967 756.209 Q55.6912 759.751 55.6912 766.881 Q55.6912 773.987 57.4967 777.552 Q59.3254 781.094 62.9365 781.094 Q66.5707 781.094 68.3763 777.552 Q70.205 773.987 70.205 766.881 Q70.205 759.751 68.3763 756.209 Q66.5707 752.645 62.9365 752.645 M62.9365 748.941 Q68.7467 748.941 71.8022 753.547 Q74.8809 758.131 74.8809 766.881 Q74.8809 775.608 71.8022 780.214 Q68.7467 784.797 62.9365 784.797 Q57.1264 784.797 54.0477 780.214 Q50.9921 775.608 50.9921 766.881 Q50.9921 758.131 54.0477 753.547 Q57.1264 748.941 62.9365 748.941 Z\" fill=\"#000000\" fill-rule=\"nonzero\" fill-opacity=\"1\" /><path clip-path=\"url(#clip430)\" d=\"M83.0984 778.246 L87.9827 778.246 L87.9827 784.126 L83.0984 784.126 L83.0984 778.246 Z\" fill=\"#000000\" fill-rule=\"nonzero\" fill-opacity=\"1\" /><path clip-path=\"url(#clip430)\" d=\"M98.2141 749.566 L116.57 749.566 L116.57 753.501 L102.496 753.501 L102.496 761.973 Q103.515 761.626 104.534 761.464 Q105.552 761.279 106.571 761.279 Q112.358 761.279 115.737 764.45 Q119.117 767.621 119.117 773.038 Q119.117 778.617 115.645 781.719 Q112.172 784.797 105.853 784.797 Q103.677 784.797 101.409 784.427 Q99.1632 784.057 96.7558 783.316 L96.7558 778.617 Q98.8391 779.751 101.061 780.307 Q103.284 780.862 105.76 780.862 Q109.765 780.862 112.103 778.756 Q114.441 776.649 114.441 773.038 Q114.441 769.427 112.103 767.321 Q109.765 765.214 105.76 765.214 Q103.885 765.214 102.01 765.631 Q100.159 766.047 98.2141 766.927 L98.2141 749.566 Z\" fill=\"#000000\" fill-rule=\"nonzero\" fill-opacity=\"1\" /><path clip-path=\"url(#clip430)\" d=\"M138.33 752.645 Q134.719 752.645 132.89 756.209 Q131.084 759.751 131.084 766.881 Q131.084 773.987 132.89 777.552 Q134.719 781.094 138.33 781.094 Q141.964 781.094 143.769 777.552 Q145.598 773.987 145.598 766.881 Q145.598 759.751 143.769 756.209 Q141.964 752.645 138.33 752.645 M138.33 748.941 Q144.14 748.941 147.195 753.547 Q150.274 758.131 150.274 766.881 Q150.274 775.608 147.195 780.214 Q144.14 784.797 138.33 784.797 Q132.519 784.797 129.441 780.214 Q126.385 775.608 126.385 766.881 Q126.385 758.131 129.441 753.547 Q132.519 748.941 138.33 748.941 Z\" fill=\"#000000\" fill-rule=\"nonzero\" fill-opacity=\"1\" /><path clip-path=\"url(#clip430)\" d=\"M63.9319 413.21 Q60.3208 413.21 58.4921 416.775 Q56.6865 420.316 56.6865 427.446 Q56.6865 434.552 58.4921 438.117 Q60.3208 441.659 63.9319 441.659 Q67.5661 441.659 69.3717 438.117 Q71.2004 434.552 71.2004 427.446 Q71.2004 420.316 69.3717 416.775 Q67.5661 413.21 63.9319 413.21 M63.9319 409.506 Q69.742 409.506 72.7976 414.113 Q75.8763 418.696 75.8763 427.446 Q75.8763 436.173 72.7976 440.779 Q69.742 445.362 63.9319 445.362 Q58.1217 445.362 55.043 440.779 Q51.9875 436.173 51.9875 427.446 Q51.9875 418.696 55.043 414.113 Q58.1217 409.506 63.9319 409.506 Z\" fill=\"#000000\" fill-rule=\"nonzero\" fill-opacity=\"1\" /><path clip-path=\"url(#clip430)\" d=\"M84.0938 438.812 L88.978 438.812 L88.978 444.691 L84.0938 444.691 L84.0938 438.812 Z\" fill=\"#000000\" fill-rule=\"nonzero\" fill-opacity=\"1\" /><path clip-path=\"url(#clip430)\" d=\"M97.9826 410.131 L120.205 410.131 L120.205 412.122 L107.658 444.691 L102.774 444.691 L114.58 414.066 L97.9826 414.066 L97.9826 410.131 Z\" fill=\"#000000\" fill-rule=\"nonzero\" fill-opacity=\"1\" /><path clip-path=\"url(#clip430)\" d=\"M129.371 410.131 L147.728 410.131 L147.728 414.066 L133.654 414.066 L133.654 422.538 Q134.672 422.191 135.691 422.029 Q136.709 421.844 137.728 421.844 Q143.515 421.844 146.894 425.015 Q150.274 428.187 150.274 433.603 Q150.274 439.182 146.802 442.284 Q143.33 445.362 137.01 445.362 Q134.834 445.362 132.566 444.992 Q130.32 444.622 127.913 443.881 L127.913 439.182 Q129.996 440.316 132.219 440.872 Q134.441 441.427 136.918 441.427 Q140.922 441.427 143.26 439.321 Q145.598 437.214 145.598 433.603 Q145.598 429.992 143.26 427.886 Q140.922 425.779 136.918 425.779 Q135.043 425.779 133.168 426.196 Q131.316 426.613 129.371 427.492 L129.371 410.131 Z\" fill=\"#000000\" fill-rule=\"nonzero\" fill-opacity=\"1\" /><path clip-path=\"url(#clip430)\" d=\"M53.7467 101.321 L61.3856 101.321 L61.3856 74.9555 L53.0754 76.6222 L53.0754 72.3629 L61.3393 70.6963 L66.0152 70.6963 L66.0152 101.321 L73.654 101.321 L73.654 105.256 L53.7467 105.256 L53.7467 101.321 Z\" fill=\"#000000\" fill-rule=\"nonzero\" fill-opacity=\"1\" /><path clip-path=\"url(#clip430)\" d=\"M83.0984 99.3767 L87.9827 99.3767 L87.9827 105.256 L83.0984 105.256 L83.0984 99.3767 Z\" fill=\"#000000\" fill-rule=\"nonzero\" fill-opacity=\"1\" /><path clip-path=\"url(#clip430)\" d=\"M108.168 73.775 Q104.557 73.775 102.728 77.3398 Q100.922 80.8814 100.922 88.011 Q100.922 95.1174 102.728 98.6822 Q104.557 102.224 108.168 102.224 Q111.802 102.224 113.608 98.6822 Q115.436 95.1174 115.436 88.011 Q115.436 80.8814 113.608 77.3398 Q111.802 73.775 108.168 73.775 M108.168 70.0713 Q113.978 70.0713 117.033 74.6777 Q120.112 79.261 120.112 88.011 Q120.112 96.7378 117.033 101.344 Q113.978 105.928 108.168 105.928 Q102.358 105.928 99.2789 101.344 Q96.2234 96.7378 96.2234 88.011 Q96.2234 79.261 99.2789 74.6777 Q102.358 70.0713 108.168 70.0713 Z\" fill=\"#000000\" fill-rule=\"nonzero\" fill-opacity=\"1\" /><path clip-path=\"url(#clip430)\" d=\"M138.33 73.775 Q134.719 73.775 132.89 77.3398 Q131.084 80.8814 131.084 88.011 Q131.084 95.1174 132.89 98.6822 Q134.719 102.224 138.33 102.224 Q141.964 102.224 143.769 98.6822 Q145.598 95.1174 145.598 88.011 Q145.598 80.8814 143.769 77.3398 Q141.964 73.775 138.33 73.775 M138.33 70.0713 Q144.14 70.0713 147.195 74.6777 Q150.274 79.261 150.274 88.011 Q150.274 96.7378 147.195 101.344 Q144.14 105.928 138.33 105.928 Q132.519 105.928 129.441 101.344 Q126.385 96.7378 126.385 88.011 Q126.385 79.261 129.441 74.6777 Q132.519 70.0713 138.33 70.0713 Z\" fill=\"#000000\" fill-rule=\"nonzero\" fill-opacity=\"1\" /><polyline clip-path=\"url(#clip432)\" style=\"stroke:#009af9; stroke-linecap:round; stroke-linejoin:round; stroke-width:4; stroke-opacity:1; fill:none\" points=\"247.59,1445.72 253.205,1442 258.819,1434.58 264.434,1423.51 270.049,1408.87 275.664,1390.78 281.279,1369.36 286.894,1344.79 292.509,1317.24 298.124,1286.93 303.739,1254.08 309.354,1218.94 314.969,1181.76 320.584,1142.8 326.199,1102.34 331.814,1060.66 337.429,1018.02 343.044,974.7 348.659,930.972 354.274,887.09 359.889,843.303 365.504,799.845 371.119,756.938 376.734,714.784 382.349,673.57 387.964,633.461 393.579,594.604 399.194,557.128 404.809,521.138 410.424,486.722 416.039,453.949 421.654,422.866 427.269,393.506 432.884,365.883 438.499,339.995 444.114,315.829 449.729,293.356 455.344,272.537 460.959,253.322 466.574,235.655 472.189,219.471 477.803,204.7 483.418,191.269 489.033,179.1 494.648,168.116 500.263,158.235 505.878,149.381 511.493,141.474 517.108,134.439 522.723,128.201 528.338,122.691 533.953,117.84 539.568,113.586 545.183,109.867 550.798,106.629 556.413,103.818 562.028,101.387 567.643,99.2931 573.258,97.4948 578.873,95.9562 584.488,94.6444 590.103,93.53 595.718,92.5866 601.333,91.7909 606.948,91.122 612.563,90.5618 618.178,90.0943 623.793,89.7055 629.408,89.3833 635.023,89.1174 640.638,88.8985 646.253,88.7191 651.868,88.5726 657.483,88.4533 663.098,88.3566 668.713,88.2785 674.328,88.2155 679.943,88.1651 685.558,88.1247 691.173,88.0926 696.788,88.0671 702.402,88.0469 708.017,88.0311 713.632,88.0186 719.247,88.0089 724.862,88.0013 730.477,87.9954 736.092,87.9908 741.707,87.9873 747.322,87.9846 752.937,87.9826 758.552,87.981 764.167,87.9798 769.782,87.9789 775.397,87.9782 781.012,87.9777 786.627,87.9773 792.242,87.9771 797.857,87.9768 803.472,87.9767 809.087,87.9766 814.702,87.9765 820.317,87.9764 825.932,87.9764 831.547,87.9764 837.162,87.9763 842.777,87.9763 848.392,87.9763 854.007,87.9763 859.622,87.9763 865.237,87.9763 870.852,87.9763 876.467,87.9763 882.082,87.9763 887.697,87.9763 893.312,87.9763 898.927,87.9763 904.542,87.9763 910.157,87.9763 915.772,87.9763 921.387,87.9763 927.001,87.9763 932.616,87.9763 938.231,87.9763 943.846,87.9763 949.461,87.9763 955.076,87.9763 960.691,87.9763 966.306,87.9763 971.921,87.9763 977.536,87.9763 983.151,87.9763 988.766,87.9763 994.381,87.9763 999.996,87.9763 1005.61,87.9763 1011.23,87.9763 1016.84,87.9763 1022.46,87.9763 1028.07,87.9763 1033.69,87.9763 1039.3,87.9763 1044.92,87.9763 1050.53,87.9763 1056.15,87.9763 1061.76,87.9763 1067.38,87.9763 1072.99,87.9763 1078.61,87.9763 1084.22,87.9763 1089.84,87.9763 1095.45,87.9763 1101.07,87.9763 1106.68,87.9763 1112.3,87.9763 1117.91,87.9763 1123.53,87.9763 1129.14,87.9763 1134.76,87.9763 1140.37,87.9763 1145.99,87.9763 1151.6,87.9763 1157.22,87.9763 1162.83,87.9763 1168.45,87.9763 1174.06,87.9763 1179.68,87.9763 1185.29,87.9763 1190.91,87.9763 1196.52,87.9763 1202.14,87.9763 1207.75,87.9763 1213.37,87.9763 1218.98,87.9763 1224.6,87.9763 1230.21,87.9763 1235.83,87.9763 1241.44,87.9763 1247.06,87.9763 1252.67,87.9763 1258.29,87.9763 1263.9,87.9763 1269.51,87.9763 1275.13,87.9763 1280.74,87.9763 1286.36,87.9763 1291.97,87.9763 1297.59,87.9763 1303.2,87.9763 1308.82,87.9763 1314.43,87.9763 1320.05,87.9763 1325.66,87.9763 1331.28,87.9763 1336.89,87.9763 1342.51,87.9763 1348.12,87.9763 1353.74,87.9763 1359.35,87.9763 1364.97,87.9763 1370.58,87.9763 1376.2,87.9763 1381.81,87.9763 1387.43,87.9763 1393.04,87.9763 1398.66,87.9763 1404.27,87.9763 1409.89,87.9763 1415.5,87.9763 1421.12,87.9763 1426.73,87.9763 1432.35,87.9763 1437.96,87.9763 1443.58,87.9763 1449.19,87.9763 1454.81,87.9763 1460.42,87.9763 1466.04,87.9763 1471.65,87.9763 1477.27,87.9763 1482.88,87.9763 1488.5,87.9763 1494.11,87.9763 1499.73,87.9763 1505.34,87.9763 1510.96,87.9763 1516.57,87.9763 1522.19,87.9763 1527.8,87.9763 1533.42,87.9763 1539.03,87.9763 1544.65,87.9763 1550.26,87.9763 1555.88,87.9763 1561.49,87.9763 1567.11,87.9763 1572.72,87.9763 1578.34,87.9763 1583.95,87.9763 1589.57,87.9763 1595.18,87.9763 1600.8,87.9763 1606.41,87.9763 1612.03,87.9763 1617.64,87.9763 1623.26,87.9763 1628.87,87.9763 1634.49,87.9763 1640.1,87.9763 1645.72,87.9763 1651.33,87.9763 1656.95,87.9763 1662.56,87.9763 1668.18,87.9763 1673.79,87.9763 1679.41,87.9763 1685.02,87.9763 1690.64,87.9763 1696.25,87.9763 1701.87,87.9763 1707.48,87.9763 1713.1,87.9763 1718.71,87.9763 1724.33,87.9763 1729.94,87.9763 1735.56,87.9763 1741.17,87.9763 1746.79,87.9763 1752.4,87.9763 1758.02,87.9763 1763.63,87.9763 1769.25,87.9763 1774.86,87.9763 1780.48,87.9763 1786.09,87.9763 1791.71,87.9763 1797.32,87.9763 1802.94,87.9763 1808.55,87.9763 1814.17,87.9763 1819.78,87.9763 1825.4,87.9763 1831.01,87.9763 1836.63,87.9763 1842.24,87.9763 1847.86,87.9763 1853.47,87.9763 1859.09,87.9763 1864.7,87.9763 1870.32,87.9763 1875.93,87.9763 1881.55,87.9763 1887.16,87.9763 1892.78,87.9763 1898.39,87.9763 1904.01,87.9763 1909.62,87.9763 1915.24,87.9763 1920.85,87.9763 1926.47,87.9763 1932.08,87.9763 1937.7,87.9763 1943.31,87.9763 1948.93,87.9763 1954.54,87.9763 1960.16,87.9763 1965.77,87.9763 1971.39,87.9763 1977,87.9763 1982.62,87.9763 1988.23,87.9763 1993.85,87.9763 1999.46,87.9763 2005.08,87.9763 2010.69,87.9763 2016.31,87.9763 2021.92,87.9763 2027.54,87.9763 2033.15,87.9763 2038.77,87.9763 2044.38,87.9763 2050,87.9763 2055.61,87.9763 2061.23,87.9763 2066.84,87.9763 2072.46,87.9763 2078.07,87.9763 2083.69,87.9763 2089.3,87.9763 2094.92,87.9763 2100.53,87.9763 2106.15,87.9763 2111.76,87.9763 2117.38,87.9763 2122.99,87.9763 2128.61,87.9763 2134.22,87.9763 2139.84,87.9763 2145.45,87.9763 2151.07,87.9763 2156.68,87.9763 2162.3,87.9763 2167.91,87.9763 2173.53,87.9763 2179.14,87.9763 2184.76,87.9763 2190.37,87.9763 2195.99,87.9763 2201.6,87.9763 2207.22,87.9763 2212.83,87.9763 2218.45,87.9763 2224.06,87.9763 2229.68,87.9763 2235.29,87.9763 2240.91,87.9763 2246.52,87.9763 2252.14,87.9763 2257.75,87.9763 2263.37,87.9763 2268.98,87.9763 2274.6,87.9763 2280.21,87.9763 2285.83,87.9763 2291.44,87.9763 \"/>\n",
       "<path clip-path=\"url(#clip430)\" d=\"M2011.46 1438.47 L2280.54 1438.47 L2280.54 1334.79 L2011.46 1334.79  Z\" fill=\"#ffffff\" fill-rule=\"evenodd\" fill-opacity=\"1\"/>\n",
       "<polyline clip-path=\"url(#clip430)\" style=\"stroke:#000000; stroke-linecap:round; stroke-linejoin:round; stroke-width:4; stroke-opacity:1; fill:none\" points=\"2011.46,1438.47 2280.54,1438.47 2280.54,1334.79 2011.46,1334.79 2011.46,1438.47 \"/>\n",
       "<polyline clip-path=\"url(#clip430)\" style=\"stroke:#009af9; stroke-linecap:round; stroke-linejoin:round; stroke-width:4; stroke-opacity:1; fill:none\" points=\"2035.53,1386.63 2179.97,1386.63 \"/>\n",
       "<path clip-path=\"url(#clip430)\" d=\"M2217.88 1406.32 Q2216.07 1410.95 2214.36 1412.36 Q2212.65 1413.78 2209.78 1413.78 L2206.38 1413.78 L2206.38 1410.21 L2208.88 1410.21 Q2210.63 1410.21 2211.61 1409.38 Q2212.58 1408.54 2213.76 1405.44 L2214.52 1403.5 L2204.04 1377.99 L2208.55 1377.99 L2216.65 1398.27 L2224.76 1377.99 L2229.27 1377.99 L2217.88 1406.32 Z\" fill=\"#000000\" fill-rule=\"nonzero\" fill-opacity=\"1\" /><path clip-path=\"url(#clip430)\" d=\"M2236.56 1399.98 L2244.2 1399.98 L2244.2 1373.61 L2235.89 1375.28 L2235.89 1371.02 L2244.15 1369.35 L2248.83 1369.35 L2248.83 1399.98 L2256.47 1399.98 L2256.47 1403.91 L2236.56 1403.91 L2236.56 1399.98 Z\" fill=\"#000000\" fill-rule=\"nonzero\" fill-opacity=\"1\" /></svg>\n"
      ]
     },
     "metadata": {},
     "output_type": "display_data"
    }
   ],
   "source": [
    "days = 365\n",
    "nvec = 1:days\n",
    "pvec = zeros(days)\n",
    "pvec1 = zeros(days)\n",
    "pcum = 1\n",
    "for n = 1:days\n",
    "    pcum *= (365 - (n - 1)) / 365\n",
    "    pvec[n] = 1 - pcum\n",
    "end\n",
    "\n",
    "# 向量式写法\n",
    "pvec1 = 1 .- cumprod((365 .- (0:364)) ./ 365)\n",
    "\n",
    "using Plots\n",
    "plt = plot(1:365, pvec1)\n",
    "display(plt)"
   ]
  },
  {
   "attachments": {},
   "cell_type": "markdown",
   "metadata": {},
   "source": [
    "## 样本均值递推算法"
   ]
  },
  {
   "cell_type": "code",
   "execution_count": 17,
   "metadata": {},
   "outputs": [
    {
     "data": {
      "text/plain": [
       "2-element Vector{Float64}:\n",
       " 50.0\n",
       " 50.0"
      ]
     },
     "metadata": {},
     "output_type": "display_data"
    }
   ],
   "source": [
    "x = 1:2:100\n",
    "ex = 0\n",
    "i = 0\n",
    "for j = x\n",
    "    ex = ex * i / (i + 1) + j / (i + 1)\n",
    "    i = i + 1\n",
    "end\n",
    "\n",
    "using Statistics\n",
    "[ex, mean(x)]"
   ]
  },
  {
   "cell_type": "code",
   "execution_count": 22,
   "metadata": {},
   "outputs": [
    {
     "name": "stdout",
     "output_type": "stream",
     "text": [
      "x = [0.72, 0.18, 0.31, 0.54, 0.93]\n",
      "mean_iter(x) = "
     ]
    },
    {
     "name": "stdout",
     "output_type": "stream",
     "text": [
      "0.536\n",
      "mean(x) = 0.536\n"
     ]
    },
    {
     "data": {
      "text/plain": [
       "0.536"
      ]
     },
     "metadata": {},
     "output_type": "display_data"
    }
   ],
   "source": [
    "function mean_iter(x::Vector)\n",
    "    n = length(x)\n",
    "    xm::Float64 = x[1]\n",
    "    for k = 2:n\n",
    "        xm = xm * (k - 1) / k + x[k] / k\n",
    "    end\n",
    "    xm\n",
    "end\n",
    "# 测试\n",
    "using Random, Statistics\n",
    "Random.seed!(101)\n",
    "x = round.(rand(5), digits=2);\n",
    "@show x;\n",
    "@show mean_iter(x);\n",
    "@show mean(x)"
   ]
  },
  {
   "attachments": {},
   "cell_type": "markdown",
   "metadata": {},
   "source": [
    "# Kobayashi 混合同余发生器\n",
    "$x_n = (314159269 * x_{n-1} + 453806245) (\\mod 2^{31})$ "
   ]
  },
  {
   "cell_type": "code",
   "execution_count": 10,
   "metadata": {},
   "outputs": [
    {
     "data": {
      "text/plain": [
       "2-element Vector{Float64}:\n",
       " 0.4801732623297721\n",
       " 0.09080299172054443"
      ]
     },
     "metadata": {},
     "output_type": "display_data"
    }
   ],
   "source": [
    "function rng_KS_fixed_seed(n=1, seed=0)\n",
    "    y = Vector{Float64}(undef, n)\n",
    "    x::Int64 = seed\n",
    "    for i in 1:n\n",
    "        x = (314159269 * x + 453806245) % 2147483648\n",
    "        y[i] = x / 2147483648\n",
    "    end\n",
    "    y\n",
    "end\n",
    "# test\n",
    "y = rng_KS_fixed_seed(100)\n",
    "[mean(y), var(y)]"
   ]
  },
  {
   "attachments": {},
   "cell_type": "markdown",
   "metadata": {},
   "source": [
    "用“闭包”（closure）来记住函数状态，这样可以不用每次输入seed"
   ]
  },
  {
   "cell_type": "code",
   "execution_count": 13,
   "metadata": {},
   "outputs": [
    {
     "data": {
      "text/plain": [
       "2-element Vector{Vector{Float64}}:\n",
       " [0.2113200002349913, 0.010224699042737484]\n",
       " [0.1883314079605043, 0.66593280993402]"
      ]
     },
     "metadata": {},
     "output_type": "display_data"
    }
   ],
   "source": [
    "function rng_KS(seed=0)\n",
    "    local the_seed::Int64 = seed\n",
    "\n",
    "    function rng(n=1)\n",
    "        y = Vector{Float64}(undef, n)\n",
    "        x::Int64 = the_seed\n",
    "        for i in 1:n\n",
    "            x = (314159269 * x + 453806245) % 2147483648\n",
    "            y[i] = x / 2147483648\n",
    "        end\n",
    "        the_seed = x\n",
    "        y\n",
    "    end\n",
    "    rng\n",
    "end\n",
    "\n",
    "rng = rng_KS()\n",
    "[rng(2), rng(2)]"
   ]
  }
 ],
 "metadata": {
  "kernelspec": {
   "display_name": "Julia 1.9.1",
   "language": "julia",
   "name": "julia-1.9"
  },
  "language_info": {
   "file_extension": ".jl",
   "mimetype": "application/julia",
   "name": "julia",
   "version": "1.9.1"
  },
  "orig_nbformat": 4
 },
 "nbformat": 4,
 "nbformat_minor": 2
}
